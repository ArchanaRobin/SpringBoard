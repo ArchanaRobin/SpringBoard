{
 "cells": [
  {
   "cell_type": "markdown",
   "id": "cab00290",
   "metadata": {},
   "source": [
    "## Credit Card Fraud Detection with Synthetic Financial Datasets\n",
    "\n",
    "\n",
    "Data collected from https://www.kaggle.com/ealaxi/paysim1/code\n",
    "\n",
    "Article References: 1: Google article from Jayanta Kumar Pal - https://jayant017.medium.com/hyperparameter-tuning-in-xgboost-using-randomizedsearchcv-88fcb5b58a73\n",
    "\n",
    "                    2 : Google article from Prashant Tyagi - https://www.sqlservercentral.com/articles/model-selection-and-performance-boosting-with-k-fold-cross-validation-and-xgboost\n",
    "                    \n",
    "                    3 : Google article  Niklas Donges - https://builtin.com/data-science/random-forest-algorithm"
   ]
  },
  {
   "cell_type": "code",
   "execution_count": 167,
   "id": "d72ab77c",
   "metadata": {},
   "outputs": [],
   "source": [
    "import pandas as pd\n",
    "import numpy as np\n",
    "import os\n",
    "import pickle\n",
    "import matplotlib.pyplot as plt\n",
    "import seaborn as sns\n",
    "from sklearn.preprocessing import scale\n",
    "from sklearn.model_selection import train_test_split, cross_validate, GridSearchCV, learning_curve\n",
    "from sklearn.preprocessing import StandardScaler, MinMaxScaler\n",
    "from sklearn.dummy import DummyRegressor\n",
    "from sklearn.pipeline import make_pipeline\n",
    "from sklearn.impute import SimpleImputer\n",
    "from sklearn.feature_selection import SelectKBest, f_regression\n",
    "import datetime\n",
    "from library.sb_utils import save_file\n",
    "from sklearn.metrics import precision_recall_curve\n",
    "from sklearn.metrics import f1_score\n",
    "from sklearn.metrics import auc\n",
    "from matplotlib import pyplot\n",
    "from sklearn.metrics import precision_recall_curve\n",
    "from sklearn.metrics import f1_score\n",
    "from sklearn.metrics import auc\n",
    "from sklearn.linear_model import LogisticRegression\n",
    "from sklearn.metrics import classification_report,confusion_matrix,roc_curve,roc_auc_score\n",
    "from sklearn.metrics import accuracy_score,log_loss\n",
    "from matplotlib import pyplot"
   ]
  },
  {
   "cell_type": "code",
   "execution_count": 2,
   "id": "c6a5b6f8",
   "metadata": {},
   "outputs": [],
   "source": [
    "df = pd.read_csv('C:\\\\Projects\\\\SpringBoard\\\\Capstone 2_Credit Card Fraud\\\\creditcard_preprocessing.csv')"
   ]
  },
  {
   "cell_type": "code",
   "execution_count": 3,
   "id": "428fdfbb",
   "metadata": {},
   "outputs": [
    {
     "data": {
      "text/html": [
       "<div>\n",
       "<style scoped>\n",
       "    .dataframe tbody tr th:only-of-type {\n",
       "        vertical-align: middle;\n",
       "    }\n",
       "\n",
       "    .dataframe tbody tr th {\n",
       "        vertical-align: top;\n",
       "    }\n",
       "\n",
       "    .dataframe thead th {\n",
       "        text-align: right;\n",
       "    }\n",
       "</style>\n",
       "<table border=\"1\" class=\"dataframe\">\n",
       "  <thead>\n",
       "    <tr style=\"text-align: right;\">\n",
       "      <th></th>\n",
       "      <th>step</th>\n",
       "      <th>type</th>\n",
       "      <th>amount</th>\n",
       "      <th>nameOrig</th>\n",
       "      <th>oldbalanceOrg</th>\n",
       "      <th>newbalanceOrig</th>\n",
       "      <th>nameDest</th>\n",
       "      <th>oldbalanceDest</th>\n",
       "      <th>newbalanceDest</th>\n",
       "      <th>isFraud</th>\n",
       "      <th>isFlaggedFraud</th>\n",
       "      <th>transactionHour</th>\n",
       "      <th>transactionPeriod</th>\n",
       "    </tr>\n",
       "  </thead>\n",
       "  <tbody>\n",
       "    <tr>\n",
       "      <th>0</th>\n",
       "      <td>1</td>\n",
       "      <td>PAYMENT</td>\n",
       "      <td>9839.64</td>\n",
       "      <td>C1231006815</td>\n",
       "      <td>170136.0</td>\n",
       "      <td>160296.36</td>\n",
       "      <td>M1979787155</td>\n",
       "      <td>0.0</td>\n",
       "      <td>0.0</td>\n",
       "      <td>0</td>\n",
       "      <td>0</td>\n",
       "      <td>1</td>\n",
       "      <td>Mid</td>\n",
       "    </tr>\n",
       "    <tr>\n",
       "      <th>1</th>\n",
       "      <td>1</td>\n",
       "      <td>PAYMENT</td>\n",
       "      <td>1864.28</td>\n",
       "      <td>C1666544295</td>\n",
       "      <td>21249.0</td>\n",
       "      <td>19384.72</td>\n",
       "      <td>M2044282225</td>\n",
       "      <td>0.0</td>\n",
       "      <td>0.0</td>\n",
       "      <td>0</td>\n",
       "      <td>0</td>\n",
       "      <td>1</td>\n",
       "      <td>Mid</td>\n",
       "    </tr>\n",
       "  </tbody>\n",
       "</table>\n",
       "</div>"
      ],
      "text/plain": [
       "   step     type   amount     nameOrig  oldbalanceOrg  newbalanceOrig  \\\n",
       "0     1  PAYMENT  9839.64  C1231006815       170136.0       160296.36   \n",
       "1     1  PAYMENT  1864.28  C1666544295        21249.0        19384.72   \n",
       "\n",
       "      nameDest  oldbalanceDest  newbalanceDest  isFraud  isFlaggedFraud  \\\n",
       "0  M1979787155             0.0             0.0        0               0   \n",
       "1  M2044282225             0.0             0.0        0               0   \n",
       "\n",
       "   transactionHour transactionPeriod  \n",
       "0                1               Mid  \n",
       "1                1               Mid  "
      ]
     },
     "execution_count": 3,
     "metadata": {},
     "output_type": "execute_result"
    }
   ],
   "source": [
    "df.head(2)"
   ]
  },
  {
   "cell_type": "code",
   "execution_count": 4,
   "id": "d588f198",
   "metadata": {},
   "outputs": [
    {
     "name": "stdout",
     "output_type": "stream",
     "text": [
      "<class 'pandas.core.frame.DataFrame'>\n",
      "RangeIndex: 6362620 entries, 0 to 6362619\n",
      "Data columns (total 13 columns):\n",
      " #   Column             Dtype  \n",
      "---  ------             -----  \n",
      " 0   step               int64  \n",
      " 1   type               object \n",
      " 2   amount             float64\n",
      " 3   nameOrig           object \n",
      " 4   oldbalanceOrg      float64\n",
      " 5   newbalanceOrig     float64\n",
      " 6   nameDest           object \n",
      " 7   oldbalanceDest     float64\n",
      " 8   newbalanceDest     float64\n",
      " 9   isFraud            int64  \n",
      " 10  isFlaggedFraud     int64  \n",
      " 11  transactionHour    int64  \n",
      " 12  transactionPeriod  object \n",
      "dtypes: float64(5), int64(4), object(4)\n",
      "memory usage: 631.1+ MB\n"
     ]
    }
   ],
   "source": [
    "df.info()"
   ]
  },
  {
   "cell_type": "markdown",
   "id": "8915ef1e",
   "metadata": {},
   "source": [
    "###### Origin Error Balance in Amount\n",
    "\n",
    "  - The below cell explains the error in origin account balance amount after transaction (outgoing transaction)\n",
    "\n",
    "      - Error = (New Balance + Transaction Amount) - Old Balance\n",
    "      - prove that the old and new balance in origin account are zero"
   ]
  },
  {
   "cell_type": "code",
   "execution_count": 5,
   "id": "ce5b20f0",
   "metadata": {},
   "outputs": [],
   "source": [
    "df[\"errorBalanceOrig\"]= df['newbalanceOrig'] + df['amount'] - df['oldbalanceOrg']"
   ]
  },
  {
   "cell_type": "code",
   "execution_count": 6,
   "id": "8c2908a1",
   "metadata": {},
   "outputs": [],
   "source": [
    "# flag to indicate whether both oldbalanceOrg and newbalanceOrig in origin account are zero\n",
    "df['zeroBalanceOrig'] = df['oldbalanceOrg'] + df['newbalanceOrig']\n",
    "df['zeroBalanceOrig'] = df['zeroBalanceOrig'].apply(lambda x: 1 if x == 0 else 0)"
   ]
  },
  {
   "cell_type": "markdown",
   "id": "60780378",
   "metadata": {},
   "source": [
    "######  Destination Error Balance in Amount\n",
    "\n",
    "  - The below cell explains the error in destination account balance amount after transaction (outgoing transaction)\n",
    "\n",
    "      - Error = Error = (Old Balance + Transaction Amount) - New Balance\n",
    "      - prove that the old and new balance in destination account are zero"
   ]
  },
  {
   "cell_type": "code",
   "execution_count": 7,
   "id": "736051f8",
   "metadata": {},
   "outputs": [],
   "source": [
    "df['errorBalanceDest'] = df['oldbalanceDest'] + df['amount'] - df['newbalanceDest']"
   ]
  },
  {
   "cell_type": "code",
   "execution_count": 8,
   "id": "779b18d7",
   "metadata": {},
   "outputs": [],
   "source": [
    "# flag to indicate whether both old and new balance in destination account are zero\n",
    "df['zeroBalanceDest'] = df['oldbalanceDest'] + df['newbalanceDest']\n",
    "df['zeroBalanceDest'] = df['zeroBalanceDest'].apply(lambda x: 1 if x == 0 else 0)"
   ]
  },
  {
   "cell_type": "code",
   "execution_count": 9,
   "id": "d416e423",
   "metadata": {},
   "outputs": [
    {
     "name": "stdout",
     "output_type": "stream",
     "text": [
      "False\n",
      "False\n",
      "False\n",
      "False\n"
     ]
    }
   ],
   "source": [
    "print(df.loc[df.type == 'CASH_OUT'].nameDest.str.contains('M').any())\n",
    "print(df.loc[df.type == 'CASH_IN'].nameOrig.str.contains('M').any())\n",
    "print((df.loc[df.nameDest.str.contains('M')].type != 'PAYMENT').any())\n",
    "print(df.loc[df.type == 'TRANSFER'].nameDest.str.contains('M').any())"
   ]
  },
  {
   "cell_type": "markdown",
   "id": "254512ab",
   "metadata": {},
   "source": [
    "Observations:\n",
    "\n",
    "Merchant accounts are not included in the fraudulent Transactions and it is only identified in 'PAYMENT' type transactions."
   ]
  },
  {
   "cell_type": "code",
   "execution_count": 10,
   "id": "32542eff",
   "metadata": {},
   "outputs": [
    {
     "data": {
      "text/html": [
       "<div>\n",
       "<style scoped>\n",
       "    .dataframe tbody tr th:only-of-type {\n",
       "        vertical-align: middle;\n",
       "    }\n",
       "\n",
       "    .dataframe tbody tr th {\n",
       "        vertical-align: top;\n",
       "    }\n",
       "\n",
       "    .dataframe thead th {\n",
       "        text-align: right;\n",
       "    }\n",
       "</style>\n",
       "<table border=\"1\" class=\"dataframe\">\n",
       "  <thead>\n",
       "    <tr style=\"text-align: right;\">\n",
       "      <th></th>\n",
       "      <th>step</th>\n",
       "      <th>type</th>\n",
       "      <th>amount</th>\n",
       "      <th>nameOrig</th>\n",
       "      <th>oldbalanceOrg</th>\n",
       "      <th>newbalanceOrig</th>\n",
       "      <th>nameDest</th>\n",
       "      <th>oldbalanceDest</th>\n",
       "      <th>newbalanceDest</th>\n",
       "      <th>isFraud</th>\n",
       "      <th>transactionHour</th>\n",
       "      <th>transactionPeriod</th>\n",
       "      <th>errorBalanceOrig</th>\n",
       "      <th>zeroBalanceOrig</th>\n",
       "      <th>errorBalanceDest</th>\n",
       "      <th>zeroBalanceDest</th>\n",
       "    </tr>\n",
       "  </thead>\n",
       "  <tbody>\n",
       "    <tr>\n",
       "      <th>2</th>\n",
       "      <td>1</td>\n",
       "      <td>TRANSFER</td>\n",
       "      <td>181.0</td>\n",
       "      <td>C1305486145</td>\n",
       "      <td>181.0</td>\n",
       "      <td>0.0</td>\n",
       "      <td>C553264065</td>\n",
       "      <td>0.0</td>\n",
       "      <td>0.0</td>\n",
       "      <td>1</td>\n",
       "      <td>1</td>\n",
       "      <td>Mid</td>\n",
       "      <td>0.0</td>\n",
       "      <td>0</td>\n",
       "      <td>181.0</td>\n",
       "      <td>1</td>\n",
       "    </tr>\n",
       "    <tr>\n",
       "      <th>3</th>\n",
       "      <td>1</td>\n",
       "      <td>CASH_OUT</td>\n",
       "      <td>181.0</td>\n",
       "      <td>C840083671</td>\n",
       "      <td>181.0</td>\n",
       "      <td>0.0</td>\n",
       "      <td>C38997010</td>\n",
       "      <td>21182.0</td>\n",
       "      <td>0.0</td>\n",
       "      <td>1</td>\n",
       "      <td>1</td>\n",
       "      <td>Mid</td>\n",
       "      <td>0.0</td>\n",
       "      <td>0</td>\n",
       "      <td>21363.0</td>\n",
       "      <td>0</td>\n",
       "    </tr>\n",
       "    <tr>\n",
       "      <th>251</th>\n",
       "      <td>1</td>\n",
       "      <td>TRANSFER</td>\n",
       "      <td>2806.0</td>\n",
       "      <td>C1420196421</td>\n",
       "      <td>2806.0</td>\n",
       "      <td>0.0</td>\n",
       "      <td>C972765878</td>\n",
       "      <td>0.0</td>\n",
       "      <td>0.0</td>\n",
       "      <td>1</td>\n",
       "      <td>1</td>\n",
       "      <td>Mid</td>\n",
       "      <td>0.0</td>\n",
       "      <td>0</td>\n",
       "      <td>2806.0</td>\n",
       "      <td>1</td>\n",
       "    </tr>\n",
       "    <tr>\n",
       "      <th>252</th>\n",
       "      <td>1</td>\n",
       "      <td>CASH_OUT</td>\n",
       "      <td>2806.0</td>\n",
       "      <td>C2101527076</td>\n",
       "      <td>2806.0</td>\n",
       "      <td>0.0</td>\n",
       "      <td>C1007251739</td>\n",
       "      <td>26202.0</td>\n",
       "      <td>0.0</td>\n",
       "      <td>1</td>\n",
       "      <td>1</td>\n",
       "      <td>Mid</td>\n",
       "      <td>0.0</td>\n",
       "      <td>0</td>\n",
       "      <td>29008.0</td>\n",
       "      <td>0</td>\n",
       "    </tr>\n",
       "    <tr>\n",
       "      <th>680</th>\n",
       "      <td>1</td>\n",
       "      <td>TRANSFER</td>\n",
       "      <td>20128.0</td>\n",
       "      <td>C137533655</td>\n",
       "      <td>20128.0</td>\n",
       "      <td>0.0</td>\n",
       "      <td>C1848415041</td>\n",
       "      <td>0.0</td>\n",
       "      <td>0.0</td>\n",
       "      <td>1</td>\n",
       "      <td>1</td>\n",
       "      <td>Mid</td>\n",
       "      <td>0.0</td>\n",
       "      <td>0</td>\n",
       "      <td>20128.0</td>\n",
       "      <td>1</td>\n",
       "    </tr>\n",
       "  </tbody>\n",
       "</table>\n",
       "</div>"
      ],
      "text/plain": [
       "     step      type   amount     nameOrig  oldbalanceOrg  newbalanceOrig  \\\n",
       "2       1  TRANSFER    181.0  C1305486145          181.0             0.0   \n",
       "3       1  CASH_OUT    181.0   C840083671          181.0             0.0   \n",
       "251     1  TRANSFER   2806.0  C1420196421         2806.0             0.0   \n",
       "252     1  CASH_OUT   2806.0  C2101527076         2806.0             0.0   \n",
       "680     1  TRANSFER  20128.0   C137533655        20128.0             0.0   \n",
       "\n",
       "        nameDest  oldbalanceDest  newbalanceDest  isFraud  transactionHour  \\\n",
       "2     C553264065             0.0             0.0        1                1   \n",
       "3      C38997010         21182.0             0.0        1                1   \n",
       "251   C972765878             0.0             0.0        1                1   \n",
       "252  C1007251739         26202.0             0.0        1                1   \n",
       "680  C1848415041             0.0             0.0        1                1   \n",
       "\n",
       "    transactionPeriod  errorBalanceOrig  zeroBalanceOrig  errorBalanceDest  \\\n",
       "2                 Mid               0.0                0             181.0   \n",
       "3                 Mid               0.0                0           21363.0   \n",
       "251               Mid               0.0                0            2806.0   \n",
       "252               Mid               0.0                0           29008.0   \n",
       "680               Mid               0.0                0           20128.0   \n",
       "\n",
       "     zeroBalanceDest  \n",
       "2                  1  \n",
       "3                  0  \n",
       "251                1  \n",
       "252                0  \n",
       "680                1  "
      ]
     },
     "execution_count": 10,
     "metadata": {},
     "output_type": "execute_result"
    }
   ],
   "source": [
    "# subsetting fraudulent transactions\n",
    "is_fraud = df[df['isFraud'] == 1].drop(columns=['isFlaggedFraud'])\n",
    "\n",
    "# subsetting non-fraudulent transactions\n",
    "not_fraud = df[(df['isFraud'] == 0) & (df['type'].isin(['CASH_OUT','TRANSFER']))].drop(columns=['isFlaggedFraud'])\n",
    "# creating a new dataframe from sub-sampled data\n",
    "df_new = pd.concat([is_fraud, not_fraud], axis=0)\n",
    "df_new.head()\n"
   ]
  },
  {
   "cell_type": "code",
   "execution_count": 11,
   "id": "0bbdcda7",
   "metadata": {},
   "outputs": [
    {
     "data": {
      "text/plain": [
       "array(['TRANSFER', 'CASH_OUT'], dtype=object)"
      ]
     },
     "execution_count": 11,
     "metadata": {},
     "output_type": "execute_result"
    }
   ],
   "source": [
    "df_new.iloc[:,1].unique()"
   ]
  },
  {
   "cell_type": "markdown",
   "id": "605d56c8",
   "metadata": {},
   "source": [
    "\n",
    "   ### Train/Test Split"
   ]
  },
  {
   "cell_type": "markdown",
   "id": "dac0457e",
   "metadata": {},
   "source": [
    "####  Split the data into test and train subsamples"
   ]
  },
  {
   "cell_type": "markdown",
   "id": "4db9dabb",
   "metadata": {},
   "source": [
    " - Before the model development, split the data into train and test samples."
   ]
  },
  {
   "cell_type": "code",
   "execution_count": 12,
   "id": "bf0fbb17",
   "metadata": {},
   "outputs": [],
   "source": [
    "X = df_new.drop(columns=['isFraud', \"nameOrig\", \"nameDest\"])\n",
    "y = df_new['isFraud']\n"
   ]
  },
  {
   "cell_type": "code",
   "execution_count": 13,
   "id": "78873745",
   "metadata": {},
   "outputs": [],
   "source": [
    "X.type.replace(to_replace=dict(TRANSFER=1, CASH_OUT=0), inplace=True)"
   ]
  },
  {
   "cell_type": "code",
   "execution_count": 14,
   "id": "d7db7dd5",
   "metadata": {},
   "outputs": [],
   "source": [
    "X.transactionPeriod.replace(to_replace=dict(Mid=0, Peak=1,Safe=2 ), inplace=True)"
   ]
  },
  {
   "cell_type": "markdown",
   "id": "5c8af38f",
   "metadata": {},
   "source": [
    " leave out some data (for testing) and train the model on the rest\n",
    "  - Split the data into a training and test (hold-out) set\n"
   ]
  },
  {
   "cell_type": "code",
   "execution_count": 15,
   "id": "751b4741",
   "metadata": {},
   "outputs": [
    {
     "data": {
      "text/plain": [
       "((2216327, 13), (554082, 13), (2216327,), (554082,))"
      ]
     },
     "execution_count": 15,
     "metadata": {},
     "output_type": "execute_result"
    }
   ],
   "source": [
    "X_train, X_test, y_train, y_test = train_test_split(X, y, test_size=.2, random_state=1)\n",
    "X_train.shape, X_test.shape, y_train.shape, y_test.shape"
   ]
  },
  {
   "cell_type": "code",
   "execution_count": 16,
   "id": "e6ab8a25",
   "metadata": {},
   "outputs": [
    {
     "data": {
      "text/plain": [
       "2650057    0\n",
       "4800233    0\n",
       "3770686    0\n",
       "5115227    0\n",
       "6052360    0\n",
       "          ..\n",
       "2553954    0\n",
       "836797     0\n",
       "1142115    0\n",
       "1278848    0\n",
       "2860445    0\n",
       "Name: isFraud, Length: 554082, dtype: int64"
      ]
     },
     "execution_count": 16,
     "metadata": {},
     "output_type": "execute_result"
    }
   ],
   "source": [
    "y_test"
   ]
  },
  {
   "cell_type": "code",
   "execution_count": 17,
   "id": "7d557691",
   "metadata": {},
   "outputs": [
    {
     "data": {
      "text/plain": [
       "step                   int64\n",
       "type                   int64\n",
       "amount               float64\n",
       "oldbalanceOrg        float64\n",
       "newbalanceOrig       float64\n",
       "oldbalanceDest       float64\n",
       "newbalanceDest       float64\n",
       "transactionHour        int64\n",
       "transactionPeriod      int64\n",
       "errorBalanceOrig     float64\n",
       "zeroBalanceOrig        int64\n",
       "errorBalanceDest     float64\n",
       "zeroBalanceDest        int64\n",
       "dtype: object"
      ]
     },
     "execution_count": 17,
     "metadata": {},
     "output_type": "execute_result"
    }
   ],
   "source": [
    "#Check the `dtypes` attribute of `X_train` to verify all features are numeric\n",
    "X_train.dtypes"
   ]
  },
  {
   "cell_type": "code",
   "execution_count": 18,
   "id": "7740c186",
   "metadata": {},
   "outputs": [
    {
     "data": {
      "text/plain": [
       "step                   int64\n",
       "type                   int64\n",
       "amount               float64\n",
       "oldbalanceOrg        float64\n",
       "newbalanceOrig       float64\n",
       "oldbalanceDest       float64\n",
       "newbalanceDest       float64\n",
       "transactionHour        int64\n",
       "transactionPeriod      int64\n",
       "errorBalanceOrig     float64\n",
       "zeroBalanceOrig        int64\n",
       "errorBalanceDest     float64\n",
       "zeroBalanceDest        int64\n",
       "dtype: object"
      ]
     },
     "execution_count": 18,
     "metadata": {},
     "output_type": "execute_result"
    }
   ],
   "source": [
    "#Repeat this check for the test split in `X_test`\n",
    "X_test.dtypes"
   ]
  },
  {
   "cell_type": "markdown",
   "id": "1eb92132",
   "metadata": {},
   "source": [
    "## Modelling \n",
    "\n",
    "  ###  Model 1 : Random Forest Classifier\n",
    "  \n",
    "  Random Forest builds with ensemble of multiple decision trees and  usually trained with the “bagging” method. Here we use  random forest in classification problem. \n",
    "   - Bagging is called the Bootstrap Aggregation.\n",
    "   - The base learner is Decision Tree\n",
    "   - Each tree build from Bootstrap sample.\n",
    "   - It is used to investigate the importance of the feature with a large data set.\n",
    "   - Take the raw sampling and feature sampling to the decision tree to train the data.\n",
    "      - Training done in parellel.\n",
    "   - Using unweighted voting for final prediction\n",
    "   - Easier to tune and harder to overfit.\n",
    "   "
   ]
  },
  {
   "cell_type": "markdown",
   "id": "2c1e354a",
   "metadata": {},
   "source": [
    "Normally scaling is not required for Random Forest classifier as it is Decision Tree based algorithm. But In our first case I am trying to predict the value with scaled data."
   ]
  },
  {
   "cell_type": "code",
   "execution_count": 19,
   "id": "8ec955d3",
   "metadata": {},
   "outputs": [],
   "source": [
    "# build scaler based on training data and apply it to test data to then also scale the test data\n",
    "from sklearn import preprocessing\n",
    "scaler = preprocessing.StandardScaler().fit(X_train)\n",
    "X_train_scaled=scaler.transform(X_train)\n",
    "X_test_scaled=scaler.transform(X_test)"
   ]
  },
  {
   "cell_type": "markdown",
   "id": "e5f8161d",
   "metadata": {},
   "source": []
  },
  {
   "cell_type": "code",
   "execution_count": 22,
   "id": "974e28c8",
   "metadata": {},
   "outputs": [
    {
     "name": "stdout",
     "output_type": "stream",
     "text": [
      "Random Forest: Accuracy=1.000\n",
      "Random Forest: f1-score=1.000\n"
     ]
    }
   ],
   "source": [
    "from sklearn.ensemble import RandomForestClassifier\n",
    "clf = RandomForestClassifier(n_estimators=300, random_state = 1,n_jobs=-1)\n",
    "model_res = clf.fit(X_train_scaled, y_train)\n",
    "y_pred = model_res.predict(X_test_scaled)\n",
    "ac = accuracy_score(y_test, y_pred)\n",
    "\n",
    "f1 = f1_score(y_test, y_pred, average='weighted')\n",
    "cm = confusion_matrix(y_test, y_pred)\n",
    "\n",
    "print('Random Forest: Accuracy=%.3f' % (ac))\n",
    "\n",
    "print('Random Forest: f1-score=%.3f' % (f1))"
   ]
  },
  {
   "cell_type": "code",
   "execution_count": 154,
   "id": "3ff844ed",
   "metadata": {},
   "outputs": [
    {
     "name": "stdout",
     "output_type": "stream",
     "text": [
      "[[552453      1]\n",
      " [    12   1616]]\n",
      "0.9999765377687779\n",
      "              precision    recall  f1-score   support\n",
      "\n",
      "           0       1.00      1.00      1.00    552454\n",
      "           1       1.00      0.99      1.00      1628\n",
      "\n",
      "    accuracy                           1.00    554082\n",
      "   macro avg       1.00      1.00      1.00    554082\n",
      "weighted avg       1.00      1.00      1.00    554082\n",
      "\n"
     ]
    }
   ],
   "source": [
    "from sklearn.metrics import confusion_matrix,classification_report,accuracy_score\n",
    "\n",
    "rf_classifier=RandomForestClassifier(n_estimators=10).fit(X_train,y_train)\n",
    "prediction=rf_classifier.predict(X_test)\n",
    "print(confusion_matrix(y_test,prediction))\n",
    "print(accuracy_score(y_test,prediction))\n",
    "print(classification_report(y_test,prediction))"
   ]
  },
  {
   "cell_type": "markdown",
   "id": "84934c9e",
   "metadata": {},
   "source": [
    "#### Hyperparameter tuning\n",
    "\n",
    " \n",
    "   ####   Manual Hyperparameter Tuning\n",
    " \n",
    " - Increasing the predictive power\n",
    "    - n_estimators : number of trees the algorithm builds before taking the maximum voting or taking the averages of predictions.\n",
    "    - max_features : maximum number of features random forest considers to split a node.\n",
    " - Increasing the model's speed\n",
    "    - n_jobs : The n_jobs hyperparameter tells the engine how many processors it is allowed to use. If it has a value of one, it can only use one processor. A value of “-1” means that there is no limit.\n",
    "    - random_state : hyperparameter makes the model’s output replicable\n",
    "    - The minimum number of samples required to be at a leaf node"
   ]
  },
  {
   "cell_type": "code",
   "execution_count": 25,
   "id": "d32468d3",
   "metadata": {},
   "outputs": [
    {
     "name": "stdout",
     "output_type": "stream",
     "text": [
      "[[552452      2]\n",
      " [    12   1616]]\n",
      "0.9999747329817609\n",
      "              precision    recall  f1-score   support\n",
      "\n",
      "           0       1.00      1.00      1.00    552454\n",
      "           1       1.00      0.99      1.00      1628\n",
      "\n",
      "    accuracy                           1.00    554082\n",
      "   macro avg       1.00      1.00      1.00    554082\n",
      "weighted avg       1.00      1.00      1.00    554082\n",
      "\n"
     ]
    }
   ],
   "source": [
    "### Manual Hyperparameter Tuning\n",
    "model=RandomForestClassifier(n_estimators=300,criterion='entropy',\n",
    "                             max_features='sqrt',min_samples_leaf=10,random_state=100).fit(X_train_scaled,y_train)\n",
    "predictions=model.predict(X_test_scaled)\n",
    "print(confusion_matrix(y_test,predictions))\n",
    "print(accuracy_score(y_test,predictions))\n",
    "print(classification_report(y_test,predictions))"
   ]
  },
  {
   "cell_type": "markdown",
   "id": "d3aaab29",
   "metadata": {},
   "source": [
    " In all the cases we get 99.99% accuracy."
   ]
  },
  {
   "cell_type": "markdown",
   "id": "77f3b2f5",
   "metadata": {},
   "source": [
    "As we got good accuracy with Manual method, RandomizedSearchCV is not performed"
   ]
  },
  {
   "cell_type": "markdown",
   "id": "97aa2011",
   "metadata": {},
   "source": [
    "###  Model 2: XgBoost Classifier\n",
    "\n",
    "XGBoost is an implementation of gradient boosted decision trees designed for speed and performance that is dominative competitive machine learning.\n",
    "Gradient boosting refers to a class of ensemble machine learning algorithms that can be used for classification or regression predictive modeling problems. Ensembles are constructed from decision tree models. Trees are added one at a time to the ensemble and fit to correct the prediction errors made by prior models.\n",
    "\n",
    "The XGBoost model for classification is called XGBClassifier. We can create and and fit it to our training dataset. Models are fit using the model.fit() function.\n",
    "\n",
    "Parameters for training the model can be passed to the model in the constructor."
   ]
  },
  {
   "cell_type": "code",
   "execution_count": 96,
   "id": "778cd737",
   "metadata": {},
   "outputs": [
    {
     "name": "stderr",
     "output_type": "stream",
     "text": [
      "C:\\Users\\archu\\anaconda3\\lib\\site-packages\\xgboost\\sklearn.py:1224: UserWarning: The use of label encoder in XGBClassifier is deprecated and will be removed in a future release. To remove this warning, do the following: 1) Pass option use_label_encoder=False when constructing XGBClassifier object; and 2) Encode your labels (y) as integers starting with 0, i.e. 0, 1, 2, ..., [num_class - 1].\n",
      "  warnings.warn(label_encoder_deprecation_msg, UserWarning)\n"
     ]
    },
    {
     "name": "stdout",
     "output_type": "stream",
     "text": [
      "[13:32:49] WARNING: C:/Users/Administrator/workspace/xgboost-win64_release_1.5.1/src/learner.cc:1115: Starting in XGBoost 1.3.0, the default evaluation metric used with the objective 'binary:logistic' was changed from 'error' to 'logloss'. Explicitly set eval_metric if you'd like to restore the old behavior.\n"
     ]
    },
    {
     "data": {
      "text/plain": [
       "XGBClassifier(base_score=0.5, booster='gbtree', colsample_bylevel=1,\n",
       "              colsample_bynode=1, colsample_bytree=1, enable_categorical=False,\n",
       "              gamma=0, gpu_id=-1, importance_type=None,\n",
       "              interaction_constraints='', learning_rate=0.300000012,\n",
       "              max_delta_step=0, max_depth=6, min_child_weight=1, missing=nan,\n",
       "              monotone_constraints='()', n_estimators=100, n_jobs=4,\n",
       "              num_parallel_tree=1, predictor='auto', random_state=0,\n",
       "              reg_alpha=0, reg_lambda=1, scale_pos_weight=1, subsample=1,\n",
       "              tree_method='exact', validate_parameters=1, verbosity=None)"
      ]
     },
     "execution_count": 96,
     "metadata": {},
     "output_type": "execute_result"
    }
   ],
   "source": [
    "# Fitting XGBoost to the Training set\n",
    "import xgboost\n",
    "classifier = xgboost.XGBClassifier()\n",
    "classifier.fit(X_train, y_train)"
   ]
  },
  {
   "cell_type": "markdown",
   "id": "f36d6e49",
   "metadata": {},
   "source": [
    "We can make predictions using the fit model on the test dataset.\n",
    "\n",
    " Now that we have used the fit model to make predictions on new data, we can evaluate the performance of the predictions by comparing them to the expected values. For this we will use the built in accuracy_score() function in scikit-learn.\n"
   ]
  },
  {
   "cell_type": "code",
   "execution_count": 97,
   "id": "3a1dc2a4",
   "metadata": {},
   "outputs": [],
   "source": [
    "# Predicting the Test set results\n",
    "y_pred = classifier.predict(X_test)\n",
    "predictions = [round(value) for value in y_pred]"
   ]
  },
  {
   "cell_type": "code",
   "execution_count": 98,
   "id": "ab2cb633",
   "metadata": {},
   "outputs": [
    {
     "name": "stdout",
     "output_type": "stream",
     "text": [
      "Accuracy: 100.00%\n"
     ]
    }
   ],
   "source": [
    "accuracy = accuracy_score(y_test, predictions)\n",
    "print(\"Accuracy: %.2f%%\" % (accuracy * 100.0))"
   ]
  },
  {
   "cell_type": "code",
   "execution_count": 100,
   "id": "dffae98a",
   "metadata": {},
   "outputs": [
    {
     "name": "stdout",
     "output_type": "stream",
     "text": [
      "[[552454      0]\n",
      " [    10   1618]]\n"
     ]
    }
   ],
   "source": [
    "# Making the Confusion Matrix\n",
    "from sklearn.metrics import confusion_matrix\n",
    "cm = confusion_matrix(y_test, y_pred)\n",
    "print(cm)"
   ]
  },
  {
   "cell_type": "markdown",
   "id": "b8b6cfc2",
   "metadata": {},
   "source": [
    "k-Fold Cross Validation is used to evaluate our machine learning model. It can also be used to improve the performance of the model by Parameter Tuning techniques like Random Search or Grid Search.\n",
    "\n",
    "k-Fold Cross Validation:\n",
    "\n",
    "  - helps us with model evaluation finally determining the quality of the model.\n",
    "  - is crucial to determining if the model is generalizing well to data.\n",
    "  - checks if the model is overfitting or underfitting.\n",
    "  - lets us choose the model which had the best performance."
   ]
  },
  {
   "cell_type": "code",
   "execution_count": 39,
   "id": "81aa937c",
   "metadata": {},
   "outputs": [
    {
     "name": "stderr",
     "output_type": "stream",
     "text": [
      "C:\\Users\\archu\\anaconda3\\lib\\site-packages\\xgboost\\sklearn.py:1224: UserWarning: The use of label encoder in XGBClassifier is deprecated and will be removed in a future release. To remove this warning, do the following: 1) Pass option use_label_encoder=False when constructing XGBClassifier object; and 2) Encode your labels (y) as integers starting with 0, i.e. 0, 1, 2, ..., [num_class - 1].\n",
      "  warnings.warn(label_encoder_deprecation_msg, UserWarning)\n"
     ]
    },
    {
     "name": "stdout",
     "output_type": "stream",
     "text": [
      "[12:50:38] WARNING: C:/Users/Administrator/workspace/xgboost-win64_release_1.5.1/src/learner.cc:1115: Starting in XGBoost 1.3.0, the default evaluation metric used with the objective 'binary:logistic' was changed from 'error' to 'logloss'. Explicitly set eval_metric if you'd like to restore the old behavior.\n",
      "[12:54:00] WARNING: C:/Users/Administrator/workspace/xgboost-win64_release_1.5.1/src/learner.cc:1115: Starting in XGBoost 1.3.0, the default evaluation metric used with the objective 'binary:logistic' was changed from 'error' to 'logloss'. Explicitly set eval_metric if you'd like to restore the old behavior.\n",
      "[12:57:25] WARNING: C:/Users/Administrator/workspace/xgboost-win64_release_1.5.1/src/learner.cc:1115: Starting in XGBoost 1.3.0, the default evaluation metric used with the objective 'binary:logistic' was changed from 'error' to 'logloss'. Explicitly set eval_metric if you'd like to restore the old behavior.\n",
      "[13:00:56] WARNING: C:/Users/Administrator/workspace/xgboost-win64_release_1.5.1/src/learner.cc:1115: Starting in XGBoost 1.3.0, the default evaluation metric used with the objective 'binary:logistic' was changed from 'error' to 'logloss'. Explicitly set eval_metric if you'd like to restore the old behavior.\n",
      "[13:04:34] WARNING: C:/Users/Administrator/workspace/xgboost-win64_release_1.5.1/src/learner.cc:1115: Starting in XGBoost 1.3.0, the default evaluation metric used with the objective 'binary:logistic' was changed from 'error' to 'logloss'. Explicitly set eval_metric if you'd like to restore the old behavior.\n",
      "[13:08:04] WARNING: C:/Users/Administrator/workspace/xgboost-win64_release_1.5.1/src/learner.cc:1115: Starting in XGBoost 1.3.0, the default evaluation metric used with the objective 'binary:logistic' was changed from 'error' to 'logloss'. Explicitly set eval_metric if you'd like to restore the old behavior.\n",
      "[13:11:25] WARNING: C:/Users/Administrator/workspace/xgboost-win64_release_1.5.1/src/learner.cc:1115: Starting in XGBoost 1.3.0, the default evaluation metric used with the objective 'binary:logistic' was changed from 'error' to 'logloss'. Explicitly set eval_metric if you'd like to restore the old behavior.\n",
      "[13:14:51] WARNING: C:/Users/Administrator/workspace/xgboost-win64_release_1.5.1/src/learner.cc:1115: Starting in XGBoost 1.3.0, the default evaluation metric used with the objective 'binary:logistic' was changed from 'error' to 'logloss'. Explicitly set eval_metric if you'd like to restore the old behavior.\n",
      "[13:18:13] WARNING: C:/Users/Administrator/workspace/xgboost-win64_release_1.5.1/src/learner.cc:1115: Starting in XGBoost 1.3.0, the default evaluation metric used with the objective 'binary:logistic' was changed from 'error' to 'logloss'. Explicitly set eval_metric if you'd like to restore the old behavior.\n",
      "[13:21:38] WARNING: C:/Users/Administrator/workspace/xgboost-win64_release_1.5.1/src/learner.cc:1115: Starting in XGBoost 1.3.0, the default evaluation metric used with the objective 'binary:logistic' was changed from 'error' to 'logloss'. Explicitly set eval_metric if you'd like to restore the old behavior.\n"
     ]
    },
    {
     "data": {
      "text/plain": [
       "6.7529016384357624e-06"
      ]
     },
     "execution_count": 39,
     "metadata": {},
     "output_type": "execute_result"
    }
   ],
   "source": [
    "# Applying k-Fold Cross Validation\n",
    "from sklearn.model_selection import cross_val_score\n",
    "accuracies = cross_val_score(estimator = classifier, X = X_train, y = y_train, cv = 10)\n",
    "accuracies.mean()\n",
    "accuracies.std()"
   ]
  },
  {
   "cell_type": "code",
   "execution_count": 41,
   "id": "3f78c754",
   "metadata": {},
   "outputs": [
    {
     "name": "stdout",
     "output_type": "stream",
     "text": [
      "0.9999882688766528\n",
      "6.7529016384357624e-06\n"
     ]
    }
   ],
   "source": [
    "print(accuracies.mean())\n",
    "print(accuracies.std())"
   ]
  },
  {
   "cell_type": "markdown",
   "id": "0a9330c1",
   "metadata": {},
   "source": [
    "Here we Performed k-fold cross validation on the training set and made the final evaluation of selected model on the test set.\n"
   ]
  },
  {
   "cell_type": "markdown",
   "id": "1bfab8e8",
   "metadata": {},
   "source": [
    "### Hyperparameter Optimization For XgBoost using RandomizedSearchCV"
   ]
  },
  {
   "cell_type": "markdown",
   "id": "2ea04b5f",
   "metadata": {},
   "source": [
    "We will use RandomizedSearchCV for hyperparameter optimization. It basically works with various parameters internally and finds out the best parameters that XGBoost algorithm can work better with."
   ]
  },
  {
   "cell_type": "markdown",
   "id": "d2ff3e17",
   "metadata": {},
   "source": [
    "Create a dictionary of some parameters to be trained. Here the keys are basically the parameters and the values are a list of values of the parameters to be trained upon. So the RandomizedSearchCV will test each value and find out the particular value which gives the highest accuracy."
   ]
  },
  {
   "cell_type": "code",
   "execution_count": 101,
   "id": "49e6dd1b",
   "metadata": {},
   "outputs": [],
   "source": [
    "## Hyper Parameter Optimization\n",
    "# Build the best parameters.\n",
    "\n",
    "params={\n",
    " \"learning_rate\"    : [0.05, 0.10, 0.15, 0.20, 0.25, 0.30 ] ,\n",
    " \"max_depth\"        : [ 3, 4, 5, 6, 8, 10, 12, 15],\n",
    " \"min_child_weight\" : [ 1, 3, 5, 7 ],\n",
    " \"gamma\"            : [ 0.0, 0.1, 0.2 , 0.3, 0.4 ],\n",
    " \"colsample_bytree\" : [ 0.3, 0.4, 0.5 , 0.7 ]\n",
    "    \n",
    "}"
   ]
  },
  {
   "cell_type": "code",
   "execution_count": 43,
   "id": "025a1d0a",
   "metadata": {},
   "outputs": [],
   "source": [
    "## Hyperparameter optimization using RandomizedSearchCV\n",
    "from sklearn.model_selection import RandomizedSearchCV, GridSearchCV"
   ]
  },
  {
   "cell_type": "code",
   "execution_count": 45,
   "id": "7a7343c1",
   "metadata": {},
   "outputs": [],
   "source": [
    "def timer(start_time=None):\n",
    "    if not start_time:\n",
    "        start_time = datetime.now()\n",
    "        return start_time\n",
    "    elif start_time:\n",
    "        thour, temp_sec = divmod((datetime.now() - start_time).total_seconds(), 3600)\n",
    "        tmin, tsec = divmod(temp_sec, 60)\n",
    "        print('\\n Time taken: %i hours %i minutes and %s seconds.' % (thour, tmin, round(tsec, 2)))"
   ]
  },
  {
   "cell_type": "code",
   "execution_count": 46,
   "id": "5a8cb290",
   "metadata": {},
   "outputs": [],
   "source": [
    "classifier=xgboost.XGBClassifier()"
   ]
  },
  {
   "cell_type": "markdown",
   "id": "1715d8fd",
   "metadata": {},
   "source": [
    " Next, we call the RandomizedSearchCV() and pass the following parameters as below:\n",
    " \n",
    " - classifier : Default instance of XGBoost classifier\n",
    " - param_distributions : parameters to be passed\n",
    " - scoring : scoring attribute\n",
    " - n_iter : Number of iterations\n",
    " - n_jobs : Number of cores to be used(-1 indicates all the cores)\n",
    " - cv : cross validation\n",
    " - verbose : To generate messages while training the model"
   ]
  },
  {
   "cell_type": "code",
   "execution_count": 47,
   "id": "0bdebd51",
   "metadata": {},
   "outputs": [],
   "source": [
    "random_search=RandomizedSearchCV(classifier,param_distributions=params,n_iter=5,scoring='roc_auc',n_jobs=-1,cv=5,verbose=3)"
   ]
  },
  {
   "cell_type": "code",
   "execution_count": 49,
   "id": "94388289",
   "metadata": {},
   "outputs": [
    {
     "name": "stdout",
     "output_type": "stream",
     "text": [
      "Fitting 5 folds for each of 5 candidates, totalling 25 fits\n"
     ]
    },
    {
     "name": "stderr",
     "output_type": "stream",
     "text": [
      "[Parallel(n_jobs=-1)]: Using backend LokyBackend with 4 concurrent workers.\n",
      "[Parallel(n_jobs=-1)]: Done  25 out of  25 | elapsed: 39.0min finished\n",
      "C:\\Users\\archu\\anaconda3\\lib\\site-packages\\xgboost\\sklearn.py:1224: UserWarning: The use of label encoder in XGBClassifier is deprecated and will be removed in a future release. To remove this warning, do the following: 1) Pass option use_label_encoder=False when constructing XGBClassifier object; and 2) Encode your labels (y) as integers starting with 0, i.e. 0, 1, 2, ..., [num_class - 1].\n",
      "  warnings.warn(label_encoder_deprecation_msg, UserWarning)\n"
     ]
    },
    {
     "name": "stdout",
     "output_type": "stream",
     "text": [
      "[14:16:59] WARNING: C:/Users/Administrator/workspace/xgboost-win64_release_1.5.1/src/learner.cc:1115: Starting in XGBoost 1.3.0, the default evaluation metric used with the objective 'binary:logistic' was changed from 'error' to 'logloss'. Explicitly set eval_metric if you'd like to restore the old behavior.\n",
      "\n",
      " Time taken: 0 hours 41 minutes and 34.7 seconds.\n"
     ]
    }
   ],
   "source": [
    "from datetime import datetime\n",
    "# Here we go\n",
    "start_time = timer(None) # timing starts from this point for \"start_time\" variable\n",
    "random_search.fit(X,y)\n",
    "timer(start_time) # timing ends here for \"start_time\" variable"
   ]
  },
  {
   "cell_type": "code",
   "execution_count": 50,
   "id": "a4ec4f1f",
   "metadata": {},
   "outputs": [
    {
     "data": {
      "text/plain": [
       "XGBClassifier(base_score=0.5, booster='gbtree', colsample_bylevel=1,\n",
       "              colsample_bynode=1, colsample_bytree=0.5,\n",
       "              enable_categorical=False, gamma=0.0, gpu_id=-1,\n",
       "              importance_type=None, interaction_constraints='',\n",
       "              learning_rate=0.25, max_delta_step=0, max_depth=6,\n",
       "              min_child_weight=7, missing=nan, monotone_constraints='()',\n",
       "              n_estimators=100, n_jobs=4, num_parallel_tree=1, predictor='auto',\n",
       "              random_state=0, reg_alpha=0, reg_lambda=1, scale_pos_weight=1,\n",
       "              subsample=1, tree_method='exact', validate_parameters=1,\n",
       "              verbosity=None)"
      ]
     },
     "execution_count": 50,
     "metadata": {},
     "output_type": "execute_result"
    }
   ],
   "source": [
    "random_search.best_estimator_"
   ]
  },
  {
   "cell_type": "code",
   "execution_count": 51,
   "id": "b3d78bcc",
   "metadata": {},
   "outputs": [
    {
     "data": {
      "text/plain": [
       "{'min_child_weight': 7,\n",
       " 'max_depth': 6,\n",
       " 'learning_rate': 0.25,\n",
       " 'gamma': 0.0,\n",
       " 'colsample_bytree': 0.5}"
      ]
     },
     "execution_count": 51,
     "metadata": {},
     "output_type": "execute_result"
    }
   ],
   "source": [
    "random_search.best_params_"
   ]
  },
  {
   "cell_type": "markdown",
   "id": "764dddd5",
   "metadata": {},
   "source": [
    " Now we know all the best parameters. So, we can simply build our final classifier model by passing all those parameters."
   ]
  },
  {
   "cell_type": "code",
   "execution_count": 54,
   "id": "a06999cf",
   "metadata": {},
   "outputs": [],
   "source": [
    "classifier = xgboost.XGBClassifier(base_score=0.5, booster='gbtree', colsample_bylevel=1,\n",
    "              colsample_bynode=1, colsample_bytree=0.5,\n",
    "              enable_categorical=False, gamma=0.0, gpu_id=-1,\n",
    "              importance_type=None, interaction_constraints='',\n",
    "              learning_rate=0.25, max_delta_step=0, max_depth=6,\n",
    "              min_child_weight=7, monotone_constraints='()',\n",
    "              n_estimators=100, n_jobs=4, num_parallel_tree=1, predictor='auto',\n",
    "              random_state=0, reg_alpha=0, reg_lambda=1, scale_pos_weight=1,\n",
    "              subsample=1, tree_method='exact', validate_parameters=1,\n",
    "              verbosity=None)"
   ]
  },
  {
   "cell_type": "markdown",
   "id": "f308756f",
   "metadata": {},
   "source": [
    "Now, we will find the cross validation score of our above model using cross_val_score. \n",
    " - Here we will get 10 different accuracies, as we have cv = 10"
   ]
  },
  {
   "cell_type": "code",
   "execution_count": 56,
   "id": "bfc1bd75",
   "metadata": {},
   "outputs": [
    {
     "name": "stderr",
     "output_type": "stream",
     "text": [
      "C:\\Users\\archu\\anaconda3\\lib\\site-packages\\xgboost\\sklearn.py:1224: UserWarning: The use of label encoder in XGBClassifier is deprecated and will be removed in a future release. To remove this warning, do the following: 1) Pass option use_label_encoder=False when constructing XGBClassifier object; and 2) Encode your labels (y) as integers starting with 0, i.e. 0, 1, 2, ..., [num_class - 1].\n",
      "  warnings.warn(label_encoder_deprecation_msg, UserWarning)\n"
     ]
    },
    {
     "name": "stdout",
     "output_type": "stream",
     "text": [
      "[14:21:55] WARNING: C:/Users/Administrator/workspace/xgboost-win64_release_1.5.1/src/learner.cc:1115: Starting in XGBoost 1.3.0, the default evaluation metric used with the objective 'binary:logistic' was changed from 'error' to 'logloss'. Explicitly set eval_metric if you'd like to restore the old behavior.\n",
      "[14:23:55] WARNING: C:/Users/Administrator/workspace/xgboost-win64_release_1.5.1/src/learner.cc:1115: Starting in XGBoost 1.3.0, the default evaluation metric used with the objective 'binary:logistic' was changed from 'error' to 'logloss'. Explicitly set eval_metric if you'd like to restore the old behavior.\n",
      "[14:26:12] WARNING: C:/Users/Administrator/workspace/xgboost-win64_release_1.5.1/src/learner.cc:1115: Starting in XGBoost 1.3.0, the default evaluation metric used with the objective 'binary:logistic' was changed from 'error' to 'logloss'. Explicitly set eval_metric if you'd like to restore the old behavior.\n",
      "[14:28:27] WARNING: C:/Users/Administrator/workspace/xgboost-win64_release_1.5.1/src/learner.cc:1115: Starting in XGBoost 1.3.0, the default evaluation metric used with the objective 'binary:logistic' was changed from 'error' to 'logloss'. Explicitly set eval_metric if you'd like to restore the old behavior.\n",
      "[14:30:50] WARNING: C:/Users/Administrator/workspace/xgboost-win64_release_1.5.1/src/learner.cc:1115: Starting in XGBoost 1.3.0, the default evaluation metric used with the objective 'binary:logistic' was changed from 'error' to 'logloss'. Explicitly set eval_metric if you'd like to restore the old behavior.\n",
      "[14:33:14] WARNING: C:/Users/Administrator/workspace/xgboost-win64_release_1.5.1/src/learner.cc:1115: Starting in XGBoost 1.3.0, the default evaluation metric used with the objective 'binary:logistic' was changed from 'error' to 'logloss'. Explicitly set eval_metric if you'd like to restore the old behavior.\n",
      "[14:35:38] WARNING: C:/Users/Administrator/workspace/xgboost-win64_release_1.5.1/src/learner.cc:1115: Starting in XGBoost 1.3.0, the default evaluation metric used with the objective 'binary:logistic' was changed from 'error' to 'logloss'. Explicitly set eval_metric if you'd like to restore the old behavior.\n",
      "[14:37:56] WARNING: C:/Users/Administrator/workspace/xgboost-win64_release_1.5.1/src/learner.cc:1115: Starting in XGBoost 1.3.0, the default evaluation metric used with the objective 'binary:logistic' was changed from 'error' to 'logloss'. Explicitly set eval_metric if you'd like to restore the old behavior.\n",
      "[14:40:12] WARNING: C:/Users/Administrator/workspace/xgboost-win64_release_1.5.1/src/learner.cc:1115: Starting in XGBoost 1.3.0, the default evaluation metric used with the objective 'binary:logistic' was changed from 'error' to 'logloss'. Explicitly set eval_metric if you'd like to restore the old behavior.\n",
      "[14:42:28] WARNING: C:/Users/Administrator/workspace/xgboost-win64_release_1.5.1/src/learner.cc:1115: Starting in XGBoost 1.3.0, the default evaluation metric used with the objective 'binary:logistic' was changed from 'error' to 'logloss'. Explicitly set eval_metric if you'd like to restore the old behavior.\n"
     ]
    }
   ],
   "source": [
    "from sklearn.model_selection import cross_val_score\n",
    "score=cross_val_score(classifier,X,y,cv=10)"
   ]
  },
  {
   "cell_type": "code",
   "execution_count": 57,
   "id": "7c72c6e0",
   "metadata": {},
   "outputs": [
    {
     "data": {
      "text/plain": [
       "array([1., 1., 1., 1., 1., 1., 1., 1., 1., 1.])"
      ]
     },
     "execution_count": 57,
     "metadata": {},
     "output_type": "execute_result"
    }
   ],
   "source": [
    "score"
   ]
  },
  {
   "cell_type": "code",
   "execution_count": 58,
   "id": "c05c70bf",
   "metadata": {},
   "outputs": [
    {
     "data": {
      "text/plain": [
       "0.9999841178742497"
      ]
     },
     "execution_count": 58,
     "metadata": {},
     "output_type": "execute_result"
    }
   ],
   "source": [
    "score.mean()"
   ]
  },
  {
   "cell_type": "markdown",
   "id": "8d64f23c",
   "metadata": {},
   "source": [
    " Finally, if we see the mean of the accuracies, we get an accuracy of 99.99%.  This is how we perform hyperparameter tuning in XGBoost"
   ]
  },
  {
   "cell_type": "markdown",
   "id": "9b5b6404",
   "metadata": {},
   "source": [
    "### Model 3: Logistic Regression\n",
    "\n",
    "There are different ways of making classifications. \n",
    "  - Train on the training set, and test for accuracy on the testing set\n",
    "  - Logistic regression is mainly used to solve Binary classification problem and when the dependent variable is catogorical.\n",
    "  - This binary logistic classification problem should be linearly Seperable.\n",
    "  \n"
   ]
  },
  {
   "cell_type": "code",
   "execution_count": 63,
   "id": "e3542b30",
   "metadata": {},
   "outputs": [
    {
     "name": "stdout",
     "output_type": "stream",
     "text": [
      "0.9968957663306153\n"
     ]
    }
   ],
   "source": [
    "from sklearn.linear_model import LogisticRegression\n",
    "from sklearn.metrics import accuracy_score\n",
    "clf = LogisticRegression()\n",
    "clf.fit(X_train, y_train)\n",
    "print(accuracy_score(clf.predict(X_test), y_test))\n"
   ]
  },
  {
   "cell_type": "markdown",
   "id": "a50abf03",
   "metadata": {},
   "source": [
    "#### Tuning the Model"
   ]
  },
  {
   "cell_type": "markdown",
   "id": "da44b959",
   "metadata": {},
   "source": [
    "The model has some hyperparameters we can tune for better performance. For tuning the parameters of our model, we will use a mix of cross-validation and grid search. In Logistic Regression, the most important parameter to tune is the regularization parameter 'C'. The regularization parameter is not always part of the logistic regression model.\n",
    "   \n",
    "  #### Case 1:\n",
    "  \n",
    "  - We use the following cv_score function to perform K-fold cross-validation and apply a scoring function to each test fold. Here we use accuracy score as the default scoring function.\n",
    " "
   ]
  },
  {
   "cell_type": "code",
   "execution_count": 64,
   "id": "48f882aa",
   "metadata": {},
   "outputs": [],
   "source": [
    "from sklearn.model_selection import KFold\n",
    "from sklearn.metrics import accuracy_score\n",
    "\n",
    "def cv_score(clf, X, y, score_func=accuracy_score):\n",
    "    result = 0\n",
    "    nfold = 5\n",
    "    for train, test in KFold(nfold).split(X): # split data into train/test groups, 5 times\n",
    "        clf.fit(X_train, y_train) # fit\n",
    "        result += score_func(clf.predict(X_train), y_train) # evaluate score function on held-out data\n",
    "    return result / nfold # average"
   ]
  },
  {
   "cell_type": "code",
   "execution_count": 65,
   "id": "fd155088",
   "metadata": {},
   "outputs": [
    {
     "name": "stdout",
     "output_type": "stream",
     "text": [
      "0.9969111056265614\n"
     ]
    }
   ],
   "source": [
    "clf = LogisticRegression()\n",
    "score = cv_score(clf, X_train, y_train)\n",
    "print(score)"
   ]
  },
  {
   "cell_type": "markdown",
   "id": "65ee6d42",
   "metadata": {},
   "source": [
    "The below is the cv_score function for a basic logistic regression model without regularization."
   ]
  },
  {
   "cell_type": "code",
   "execution_count": 90,
   "id": "fe470e3e",
   "metadata": {},
   "outputs": [
    {
     "data": {
      "image/png": "[encoded data removed]",
      "text/plain": [
       "<Figure size 432x288 with 1 Axes>"
      ]
     },
     "metadata": {
      "needs_background": "light"
     },
     "output_type": "display_data"
    }
   ],
   "source": [
    "h = lambda z: 1. / (1 + np.exp(-z))\n",
    "zs=np.arange(-5, 5, 0.1)\n",
    "plt.plot(zs, h(zs), alpha=0.5);"
   ]
  },
  {
   "cell_type": "markdown",
   "id": "0975080b",
   "metadata": {},
   "source": [
    "  #### Case 2:\n",
    "   Now perform model tuning and selecting the regularization parameter 'C' in classification.\n",
    "\n",
    "For each C:\n",
    "\n",
    "  - Create a logistic regression model with that value of C\n",
    "   - Pick the C with the accuracy_score"
   ]
  },
  {
   "cell_type": "code",
   "execution_count": 91,
   "id": "fc77b2b8",
   "metadata": {},
   "outputs": [
    {
     "name": "stdout",
     "output_type": "stream",
     "text": [
      "0.9999819521298292\n"
     ]
    }
   ],
   "source": [
    "#the grid of parameters to search over\n",
    "Cs = [0.001, 0.1, 1, 10, 100]\n",
    "\n",
    "\n",
    "from sklearn.metrics import accuracy_score\n",
    "\n",
    "for C in Cs:\n",
    "    logreg = LogisticRegression(C=C)\n",
    "     \n",
    "   \n",
    "logreg = LogisticRegression(C=C)\n",
    "logreg.fit(X_train, y_train)\n",
    "ypredlr = logreg.predict(X_test)\n",
    "print(accuracy_score(y_test, y_pred))"
   ]
  },
  {
   "cell_type": "markdown",
   "id": "3005797d",
   "metadata": {},
   "source": [
    "Here, in the above model, we estimated how this model will predict on unseen data.\n",
    "\n",
    "  - Used the C value in the procedure and train a Logistic Regression on the training data\n"
   ]
  },
  {
   "cell_type": "markdown",
   "id": "553c331a",
   "metadata": {},
   "source": [
    "### Case 4:  Decision Tree Entropy model - max depth 3"
   ]
  },
  {
   "cell_type": "code",
   "execution_count": 120,
   "id": "8d9d60ce",
   "metadata": {},
   "outputs": [
    {
     "data": {
      "text/plain": [
       "DecisionTreeClassifier(criterion='entropy', max_depth=3, random_state=1234)"
      ]
     },
     "execution_count": 120,
     "metadata": {},
     "output_type": "execute_result"
    }
   ],
   "source": [
    "from sklearn import tree, metrics\n",
    "entr_model = tree.DecisionTreeClassifier(criterion=\"entropy\", max_depth=3, random_state = 1234)\n",
    "entr_model.fit(X_train, y_train)\n",
    "y_pred = entr_model.predict(X_test)\n",
    "y_pred = pd.Series(y_pred)\n",
    "entr_model"
   ]
  },
  {
   "cell_type": "code",
   "execution_count": 121,
   "id": "c7e9796a",
   "metadata": {},
   "outputs": [
    {
     "data": {
      "image/png": "[encoded data removed]",
      "text/plain": [
       "<IPython.core.display.Image object>"
      ]
     },
     "execution_count": 121,
     "metadata": {},
     "output_type": "execute_result"
    }
   ],
   "source": [
    " #we need to visualize the tree to grasp its nature\n",
    "from io import StringIO \n",
    "from IPython.display import Image  \n",
    "import pydotplus\n",
    "\n",
    "dot_data = StringIO()\n",
    "tree.export_graphviz(entr_model, out_file=dot_data, \n",
    "                     filled=True, rounded=True, \n",
    "                     special_characters=True, feature_names=X_train.columns, class_names = [\"NO\", \"YES\"])\n",
    "\n",
    "# Alternatively for class_names use entr_model.classes_\n",
    "graph = pydotplus.graph_from_dot_data(dot_data.getvalue())\n",
    "Image(graph.create_png())"
   ]
  },
  {
   "cell_type": "code",
   "execution_count": 122,
   "id": "fa4355ce",
   "metadata": {},
   "outputs": [
    {
     "name": "stdout",
     "output_type": "stream",
     "text": [
      "Model Entropy model max depth 3\n",
      "Accuracy: 0.9999639042596583\n",
      "Balanced accuracy: 0.9953885951294785\n"
     ]
    }
   ],
   "source": [
    "# Run this block for model evaluation \n",
    "print(\"Model Entropy model max depth 3\")\n",
    "print(\"Accuracy:\", metrics.accuracy_score(y_test,y_pred))\n",
    "print(\"Balanced accuracy:\", metrics.balanced_accuracy_score(y_test,y_pred))\n"
   ]
  },
  {
   "cell_type": "markdown",
   "id": "c65e7e33",
   "metadata": {},
   "source": [
    "### Case 4 A:  Decision Tree Gini model - max depth 3"
   ]
  },
  {
   "cell_type": "code",
   "execution_count": 123,
   "id": "0ea90dee",
   "metadata": {},
   "outputs": [
    {
     "data": {
      "text/plain": [
       "DecisionTreeClassifier(max_depth=3, random_state=1234)"
      ]
     },
     "execution_count": 123,
     "metadata": {},
     "output_type": "execute_result"
    }
   ],
   "source": [
    "# As before, make a variable, but call it gini_model2, and ensure the max_depth parameter is set to 3\n",
    "gini_model = tree.DecisionTreeClassifier(criterion ='gini', random_state = 1234, max_depth  = 3)\n",
    "\n",
    "# Do the fit, predict, and series transformations as before. \n",
    "gini_model.fit(X_train, y_train)\n",
    "y_pred = gini_model.predict(X_test)\n",
    "y_pred = pd.Series(y_pred)\n",
    "gini_model"
   ]
  },
  {
   "cell_type": "code",
   "execution_count": 124,
   "id": "ed2ca79c",
   "metadata": {},
   "outputs": [
    {
     "data": {
      "image/png": "[encoded data removed]",
      "text/plain": [
       "<IPython.core.display.Image object>"
      ]
     },
     "execution_count": 124,
     "metadata": {},
     "output_type": "execute_result"
    }
   ],
   "source": [
    "dot_data = StringIO()\n",
    "tree.export_graphviz(gini_model, out_file=dot_data,\n",
    "                    filled=True, rounded=True,\n",
    "                    special_characters=True, feature_names=X_train.columns, class_names = [\"NO\", \"YES\"])\n",
    "\n",
    "\n",
    "# Alternatively for class_names use entr_model.classes_\n",
    "graph = pydotplus.graph_from_dot_data(dot_data.getvalue())\n",
    "Image(graph.create_png())"
   ]
  },
  {
   "cell_type": "code",
   "execution_count": 126,
   "id": "129c6823",
   "metadata": {},
   "outputs": [
    {
     "name": "stdout",
     "output_type": "stream",
     "text": [
      "Gini impurity  model - max depth 3\n",
      "Accuracy: 0.9989135182157154\n",
      "Balanced accuracy: 0.8166416663825498\n"
     ]
    }
   ],
   "source": [
    "print(\"Gini impurity  model - max depth 3\")\n",
    "print(\"Accuracy:\", metrics.accuracy_score(y_test,y_pred))\n",
    "print(\"Balanced accuracy:\", metrics.balanced_accuracy_score(y_test,y_pred))\n"
   ]
  },
  {
   "cell_type": "markdown",
   "id": "d2ac726c",
   "metadata": {},
   "source": [
    "### Case 5: Gradient Boosting"
   ]
  },
  {
   "cell_type": "code",
   "execution_count": 127,
   "id": "dda80aa9",
   "metadata": {},
   "outputs": [],
   "source": [
    "from sklearn import preprocessing\n",
    "from sklearn.ensemble import GradientBoostingClassifier\n",
    "from sklearn.metrics import classification_report, confusion_matrix, roc_curve, auc"
   ]
  },
  {
   "cell_type": "markdown",
   "id": "f48856f6",
   "metadata": {},
   "source": [
    "Run the cell below to test multiple learning rates in gradient boosting classifier."
   ]
  },
  {
   "cell_type": "code",
   "execution_count": 128,
   "id": "395d70b6",
   "metadata": {},
   "outputs": [
    {
     "name": "stdout",
     "output_type": "stream",
     "text": [
      "Learning rate:  0.05\n",
      "Accuracy score (training): 0.998\n",
      "Accuracy score (validation): 0.998\n",
      "\n",
      "Learning rate:  0.1\n",
      "Accuracy score (training): 0.999\n",
      "Accuracy score (validation): 0.999\n",
      "\n",
      "Learning rate:  0.25\n",
      "Accuracy score (training): 0.999\n",
      "Accuracy score (validation): 0.999\n",
      "\n",
      "Learning rate:  0.5\n",
      "Accuracy score (training): 0.999\n",
      "Accuracy score (validation): 0.999\n",
      "\n",
      "Learning rate:  0.75\n",
      "Accuracy score (training): 0.993\n",
      "Accuracy score (validation): 0.993\n",
      "\n",
      "Learning rate:  1\n",
      "Accuracy score (training): 0.858\n",
      "Accuracy score (validation): 0.858\n",
      "\n"
     ]
    }
   ],
   "source": [
    "learning_rates = [0.05, 0.1, 0.25, 0.5, 0.75, 1]\n",
    "for learning_rate in learning_rates:\n",
    "    gb = GradientBoostingClassifier(n_estimators=20, learning_rate = learning_rate, max_features=2, max_depth = 3, random_state = 0)\n",
    "    gb.fit(X_train, y_train)\n",
    "    print(\"Learning rate: \", learning_rate)\n",
    "    print(\"Accuracy score (training): {0:.3f}\".format(gb.score(X_train, y_train)))\n",
    "    print(\"Accuracy score (validation): {0:.3f}\".format(gb.score(X_test, y_test)))\n",
    "    print()"
   ]
  },
  {
   "cell_type": "markdown",
   "id": "9408ef4e",
   "metadata": {},
   "source": [
    "#### Apply the best learning rate to the model fit and predict on the testing set. Print out the confusion matrix and the classification report to review the model performance."
   ]
  },
  {
   "cell_type": "code",
   "execution_count": 135,
   "id": "2c6b75a2",
   "metadata": {},
   "outputs": [
    {
     "name": "stdout",
     "output_type": "stream",
     "text": [
      "Confusion Matrix:\n",
      "[[552292    162]\n",
      " [   403   1225]]\n",
      "Classification Report\n",
      "              precision    recall  f1-score   support\n",
      "\n",
      "           0       1.00      1.00      1.00    552454\n",
      "           1       0.88      0.75      0.81      1628\n",
      "\n",
      "    accuracy                           1.00    554082\n",
      "   macro avg       0.94      0.88      0.91    554082\n",
      "weighted avg       1.00      1.00      1.00    554082\n",
      "\n"
     ]
    }
   ],
   "source": [
    "gb2 = GradientBoostingClassifier(n_estimators=20, learning_rate = 0.25, max_features=2, max_depth = 3, random_state = 0)\n",
    "\n",
    "gb2.fit(X_train, y_train)\n",
    "predictions = gb2.predict(X_test)\n",
    "\n",
    "print(\"Confusion Matrix:\")\n",
    "print(confusion_matrix(y_test, predictions))\n",
    "\n",
    "print(\"Classification Report\")\n",
    "print(classification_report(y_test, predictions))"
   ]
  },
  {
   "cell_type": "code",
   "execution_count": 164,
   "id": "348f6c7c",
   "metadata": {},
   "outputs": [
    {
     "name": "stdout",
     "output_type": "stream",
     "text": [
      "Fitting 5 folds for each of 4 candidates, totalling 20 fits\n"
     ]
    },
    {
     "name": "stderr",
     "output_type": "stream",
     "text": [
      "[Parallel(n_jobs=-1)]: Using backend LokyBackend with 4 concurrent workers.\n",
      "[Parallel(n_jobs=-1)]: Done  20 out of  20 | elapsed:   52.9s finished\n"
     ]
    },
    {
     "name": "stdout",
     "output_type": "stream",
     "text": [
      "{'clf__learning_rate': 0.25, 'clf__max_depth': 3, 'clf__n_estimators': 300}\n",
      "0.9990875647779353\n"
     ]
    }
   ],
   "source": [
    "Pipeline = Pipeline([\n",
    "    ('sampler',RandomUnderSampler(random_state=1234,sampling_strategy='majority')),\n",
    "    ('clf',GradientBoostingClassifier(max_features='sqrt',subsample=0.7))\n",
    "    ])\n",
    "params = {'clf__learning_rate':[0.5,0.25],\n",
    "              'clf__n_estimators':[300,500],\n",
    "              'clf__max_depth':[3]\n",
    "    }\n",
    "\n",
    "cv = GridSearchCV(Pipeline,params,scoring=\"roc_auc\",verbose=True,n_jobs=-1)\n",
    "cv.fit(X_train,y_train)\n",
    "print(cv.best_params_)\n",
    "print(cv.best_score_)"
   ]
  },
  {
   "cell_type": "markdown",
   "id": "1106f301",
   "metadata": {},
   "source": [
    "### Model Performance\n",
    "\n",
    "#### F1 Score and Accuracy Score comparison\n",
    "\n",
    "F1 Score is the weighted average of Precision and Recall. Therefore, this score takes both false positives and false negatives into account. F1 is usually more useful than accuracy Score. \n"
   ]
  },
  {
   "cell_type": "code",
   "execution_count": 165,
   "id": "806aef94",
   "metadata": {},
   "outputs": [
    {
     "name": "stdout",
     "output_type": "stream",
     "text": [
      "F1 score of decision tree classifier - gini_model is 0.7740240240240239\n",
      "F1 score of decision tree classifier - Entropy model is 0.9938385705483671\n",
      "F1 score of GBM classifier is 0.7557109557109557\n",
      "F1 score of logistic regression classifier is 0.4462330972311655\n",
      "F1 score of XgBoost classifier is 0.9969192852741837\n",
      "F1 score of Random Forest classifier is 0.9987930889252933\n",
      "AUC of decision tree classifier- gini_model is 0.9970471344819049\n",
      "AUC of decision tree classifier - Entropy model is 0.9984413070258815\n",
      "AUC of GBM classifier is 0.8044639758164435\n",
      "AUC of logistic regression classifier is 0.73359243571112\n",
      "AUC of XgBoost classifier is 0.9999909496365373\n",
      "AUC of Random Forest is 0.9996799249885742\n"
     ]
    }
   ],
   "source": [
    "from sklearn.metrics import f1_score,classification_report,roc_auc_score\n",
    "print(f\"F1 score of decision tree classifier - gini_model is {f1_score(gini_model.predict(X_test),y_test)}\")\n",
    "print(f\"F1 score of decision tree classifier - Entropy model is {f1_score(entr_model.predict(X_test),y_test)}\")\n",
    "print(f\"F1 score of GBM classifier is {f1_score(cv.best_estimator_.predict(X_test),y_test)}\")\n",
    "print(f\"F1 score of logistic regression classifier is {f1_score(logreg.predict(X_test),y_test)}\")\n",
    "print(f\"F1 score of XgBoost classifier is {f1_score(classifier.predict(X_test),y_test)}\")\n",
    "print(f\"F1 score of Random Forest classifier is {f1_score(y_test, y_pred, average='weighted')}\")\n",
    "\n",
    "print(f\"AUC of decision tree classifier- gini_model is {roc_auc_score(gini_model.predict(X_test),y_test)}\")\n",
    "print(f\"AUC of decision tree classifier - Entropy model is {roc_auc_score(entr_model.predict(X_test),y_test)}\")\n",
    "print(f\"AUC of GBM classifier is {roc_auc_score(cv.best_estimator_.predict(X_test),y_test)}\")\n",
    "print(f\"AUC of logistic regression classifier is {roc_auc_score(logreg.predict(X_test),y_test)}\")\n",
    "print(f\"AUC of XgBoost classifier is {roc_auc_score(classifier.predict(X_test),y_test)}\")\n",
    "print(f\"AUC of Random Forest is {roc_auc_score(rf_classifier.predict(X_test),y_test)}\")"
   ]
  },
  {
   "cell_type": "code",
   "execution_count": 166,
   "id": "b3c4d804",
   "metadata": {},
   "outputs": [
    {
     "data": {
      "image/png": "[encoded data removed]",
      "text/plain": [
       "<Figure size 432x288 with 1 Axes>"
      ]
     },
     "metadata": {},
     "output_type": "display_data"
    }
   ],
   "source": [
    "sns.set_theme(style=\"whitegrid\")\n",
    "sns.barplot(x=[\"gini_model\", \"entr_model\", \"GBM\", \"logistic_Reg\", \"XgBoost\", \"RandomForest\"],\n",
    "            y=[roc_auc_score(gini_model.predict(X_test),y_test), roc_auc_score(entr_model.predict(X_test),y_test), roc_auc_score(cv.best_estimator_.predict(X_test),y_test), roc_auc_score(logreg.predict(X_test),y_test),\n",
    "               roc_auc_score(classifier.predict(X_test),y_test), roc_auc_score(rf_classifier.predict(X_test),y_test)])\n",
    "plt.ylabel(\"AUC\")\n",
    "plt.show()"
   ]
  },
  {
   "cell_type": "markdown",
   "id": "a581d626",
   "metadata": {},
   "source": [
    "### Summary:\n",
    "    \n",
    "- XgBoost, Random Forest and Decision Tree are performing well and gives us the best estimation.\n",
    "   - The best model is XgBoost classification Algorithm with 99.99% performance.\n",
    "   \n",
    "\n",
    "- We have performed the  hyperparameter tuning techniques to handle the quantitative variables in a better manner (XgBoost and Random Forest)\n",
    "- performed model tuning and selected the regularization parameter 'C' in Logistic Regression classification algorithm.\n",
    "\n"
   ]
  }
 ],
 "metadata": {
  "kernelspec": {
   "display_name": "Python 3 (ipykernel)",
   "language": "python",
   "name": "python3"
  },
  "language_info": {
   "codemirror_mode": {
    "name": "ipython",
    "version": 3
   },
   "file_extension": ".py",
   "mimetype": "text/x-python",
   "name": "python",
   "nbconvert_exporter": "python",
   "pygments_lexer": "ipython3",
   "version": "3.8.8"
  }
 },
 "nbformat": 4,
 "nbformat_minor": 5
}
