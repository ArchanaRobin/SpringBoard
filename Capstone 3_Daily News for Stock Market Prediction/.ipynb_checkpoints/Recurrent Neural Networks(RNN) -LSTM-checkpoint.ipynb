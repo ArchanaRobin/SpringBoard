{
 "cells": [
  {
   "cell_type": "markdown",
   "id": "e73d732f",
   "metadata": {},
   "source": [
    "# Stock Market Prediction using Time-series and Daily News Analysis\n",
    "\n",
    "\n",
    "   ## Long Short Term Memory (LSTM)- Recurrent Neural Networks\n",
    "   \n",
    "   \n",
    "   ### Preprocessing and Modeling"
   ]
  },
  {
   "cell_type": "markdown",
   "id": "8a4affa0",
   "metadata": {},
   "source": [
    "Recurrent Neural Networks(RNN) is Capable of handling sequential data. This `sequence-sequence` network is useful for predicting time series such as stock prices. You feed it the prices over the last N days, and it must output the prices shifted by one day into the future(i.e., from N-1 days ago to tomorrow)."
   ]
  },
  {
   "cell_type": "markdown",
   "id": "6f8295b4",
   "metadata": {},
   "source": [
    "\n",
    "#### RNNs have various advantages such as:\n",
    "\n",
    "   - Ability to handle sequence data.\n",
    "   - Ability to handle inputs of varying lengths.\n",
    "   - Ability to store or ‘memorize’ historical information.\n",
    "    \n",
    "    \n",
    "####  The disadvantages are:\n",
    "\n",
    "   - The computation can be very slow.\n",
    "   - The network does not take into account future inputs to make decisions.\n",
    "   - Vanishing gradient problem, where the gradients used to compute the weight update may get very close to zero preventing the network from learning new weights. The deeper the network, the more pronounced is this problem.\n"
   ]
  },
  {
   "cell_type": "markdown",
   "id": "69cfea46",
   "metadata": {},
   "source": [
    "#### RNN Idea:\n",
    "\n",
    "![](RNN2.png)\n",
    "\n",
    "#### LSTM Cell:\n",
    "\n",
    " ![](img1.png)   "
   ]
  },
  {
   "cell_type": "code",
   "execution_count": 137,
   "id": "ac7c4e6a",
   "metadata": {},
   "outputs": [],
   "source": [
    "import numpy as np\n",
    "import pandas as pd\n",
    "import matplotlib.pyplot as plt\n",
    "import math\n",
    "import numpy\n",
    "from sklearn.preprocessing import MinMaxScaler\n",
    "plt.rcParams['figure.figsize'] = (8, 8)\n",
    "from sklearn.metrics import mean_squared_error\n",
    "from tensorflow.keras.layers import Dense\n",
    "from tensorflow.keras.callbacks import EarlyStopping\n",
    "from tensorflow.keras import Sequential\n",
    "from tensorflow.keras.optimizers import SGD\n",
    "from tensorflow.keras.layers import LSTM"
   ]
  },
  {
   "cell_type": "markdown",
   "id": "529dbf2a",
   "metadata": {},
   "source": [
    "### Load the data"
   ]
  },
  {
   "cell_type": "code",
   "execution_count": 2,
   "id": "7f79cc94",
   "metadata": {},
   "outputs": [
    {
     "data": {
      "text/html": [
       "<div>\n",
       "<style scoped>\n",
       "    .dataframe tbody tr th:only-of-type {\n",
       "        vertical-align: middle;\n",
       "    }\n",
       "\n",
       "    .dataframe tbody tr th {\n",
       "        vertical-align: top;\n",
       "    }\n",
       "\n",
       "    .dataframe thead th {\n",
       "        text-align: right;\n",
       "    }\n",
       "</style>\n",
       "<table border=\"1\" class=\"dataframe\">\n",
       "  <thead>\n",
       "    <tr style=\"text-align: right;\">\n",
       "      <th></th>\n",
       "      <th>Date</th>\n",
       "      <th>Open</th>\n",
       "      <th>High</th>\n",
       "      <th>Low</th>\n",
       "      <th>Close</th>\n",
       "      <th>Volume</th>\n",
       "      <th>Adj Close</th>\n",
       "      <th>Daily_Returns</th>\n",
       "      <th>Label</th>\n",
       "      <th>Top1</th>\n",
       "      <th>...</th>\n",
       "      <th>Top21</th>\n",
       "      <th>Top22</th>\n",
       "      <th>Top23</th>\n",
       "      <th>Top24</th>\n",
       "      <th>Top25</th>\n",
       "      <th>Top_news</th>\n",
       "      <th>combined_news</th>\n",
       "      <th>combined_news_split</th>\n",
       "      <th>combined_news_split_wo_stopwords</th>\n",
       "      <th>Top_News_lemmatized</th>\n",
       "    </tr>\n",
       "  </thead>\n",
       "  <tbody>\n",
       "    <tr>\n",
       "      <th>0</th>\n",
       "      <td>2008-08-08</td>\n",
       "      <td>11432.089844</td>\n",
       "      <td>11759.959961</td>\n",
       "      <td>11388.040039</td>\n",
       "      <td>11734.320312</td>\n",
       "      <td>212830000</td>\n",
       "      <td>11734.320312</td>\n",
       "      <td>-0.004076</td>\n",
       "      <td>0</td>\n",
       "      <td>Georgia 'downs two Russian warplanes' as count...</td>\n",
       "      <td>...</td>\n",
       "      <td>Why the Pentagon Thinks Attacking Iran is a Ba...</td>\n",
       "      <td>Caucasus in crisis: Georgia invades South Osse...</td>\n",
       "      <td>Indian shoe manufactory  - And again in a seri...</td>\n",
       "      <td>Visitors Suffering from Mental Illnesses Banne...</td>\n",
       "      <td>No Help for Mexico's Kidnapping Surge</td>\n",
       "      <td>bGeorgia downs two Russian warplanes as countr...</td>\n",
       "      <td>Georgia 'downs two Russian warplanes' as count...</td>\n",
       "      <td>['georgia', 'downs', 'two', 'russian', 'warpla...</td>\n",
       "      <td>['georgia', 'downs', 'two', 'russian', 'warpla...</td>\n",
       "      <td>georgia down two russian warplane country move...</td>\n",
       "    </tr>\n",
       "  </tbody>\n",
       "</table>\n",
       "<p>1 rows × 39 columns</p>\n",
       "</div>"
      ],
      "text/plain": [
       "         Date          Open          High           Low         Close  \\\n",
       "0  2008-08-08  11432.089844  11759.959961  11388.040039  11734.320312   \n",
       "\n",
       "      Volume     Adj Close  Daily_Returns  Label  \\\n",
       "0  212830000  11734.320312      -0.004076      0   \n",
       "\n",
       "                                                Top1  ...  \\\n",
       "0  Georgia 'downs two Russian warplanes' as count...  ...   \n",
       "\n",
       "                                               Top21  \\\n",
       "0  Why the Pentagon Thinks Attacking Iran is a Ba...   \n",
       "\n",
       "                                               Top22  \\\n",
       "0  Caucasus in crisis: Georgia invades South Osse...   \n",
       "\n",
       "                                               Top23  \\\n",
       "0  Indian shoe manufactory  - And again in a seri...   \n",
       "\n",
       "                                               Top24  \\\n",
       "0  Visitors Suffering from Mental Illnesses Banne...   \n",
       "\n",
       "                                   Top25  \\\n",
       "0  No Help for Mexico's Kidnapping Surge   \n",
       "\n",
       "                                            Top_news  \\\n",
       "0  bGeorgia downs two Russian warplanes as countr...   \n",
       "\n",
       "                                       combined_news  \\\n",
       "0  Georgia 'downs two Russian warplanes' as count...   \n",
       "\n",
       "                                 combined_news_split  \\\n",
       "0  ['georgia', 'downs', 'two', 'russian', 'warpla...   \n",
       "\n",
       "                    combined_news_split_wo_stopwords  \\\n",
       "0  ['georgia', 'downs', 'two', 'russian', 'warpla...   \n",
       "\n",
       "                                 Top_News_lemmatized  \n",
       "0  georgia down two russian warplane country move...  \n",
       "\n",
       "[1 rows x 39 columns]"
      ]
     },
     "execution_count": 2,
     "metadata": {},
     "output_type": "execute_result"
    }
   ],
   "source": [
    "DJIA_comb = pd.read_csv(\".\\DJIA_comb.csv\")\n",
    "DJIA_comb.head(1)"
   ]
  },
  {
   "cell_type": "markdown",
   "id": "dd0d124a",
   "metadata": {},
   "source": [
    "Before we do anything, it is a good idea to fix the random number seed to ensure our results are reproducible."
   ]
  },
  {
   "cell_type": "code",
   "execution_count": 165,
   "id": "2ff4060d",
   "metadata": {},
   "outputs": [],
   "source": [
    "# fix random seed for reproducibility\n",
    "np.random.seed(7)"
   ]
  },
  {
   "cell_type": "markdown",
   "id": "650745d1",
   "metadata": {},
   "source": [
    "### LSTM Network for Regression"
   ]
  },
  {
   "cell_type": "code",
   "execution_count": 166,
   "id": "cd768210",
   "metadata": {},
   "outputs": [
    {
     "data": {
      "text/html": [
       "<div>\n",
       "<style scoped>\n",
       "    .dataframe tbody tr th:only-of-type {\n",
       "        vertical-align: middle;\n",
       "    }\n",
       "\n",
       "    .dataframe tbody tr th {\n",
       "        vertical-align: top;\n",
       "    }\n",
       "\n",
       "    .dataframe thead th {\n",
       "        text-align: right;\n",
       "    }\n",
       "</style>\n",
       "<table border=\"1\" class=\"dataframe\">\n",
       "  <thead>\n",
       "    <tr style=\"text-align: right;\">\n",
       "      <th></th>\n",
       "      <th>Adj Close</th>\n",
       "    </tr>\n",
       "    <tr>\n",
       "      <th>Date</th>\n",
       "      <th></th>\n",
       "    </tr>\n",
       "  </thead>\n",
       "  <tbody>\n",
       "    <tr>\n",
       "      <th>2008-08-08</th>\n",
       "      <td>11734.320312</td>\n",
       "    </tr>\n",
       "    <tr>\n",
       "      <th>2008-08-11</th>\n",
       "      <td>11782.349609</td>\n",
       "    </tr>\n",
       "    <tr>\n",
       "      <th>2008-08-12</th>\n",
       "      <td>11642.469727</td>\n",
       "    </tr>\n",
       "    <tr>\n",
       "      <th>2008-08-13</th>\n",
       "      <td>11532.959961</td>\n",
       "    </tr>\n",
       "    <tr>\n",
       "      <th>2008-08-14</th>\n",
       "      <td>11615.929688</td>\n",
       "    </tr>\n",
       "  </tbody>\n",
       "</table>\n",
       "</div>"
      ],
      "text/plain": [
       "               Adj Close\n",
       "Date                    \n",
       "2008-08-08  11734.320312\n",
       "2008-08-11  11782.349609\n",
       "2008-08-12  11642.469727\n",
       "2008-08-13  11532.959961\n",
       "2008-08-14  11615.929688"
      ]
     },
     "execution_count": 166,
     "metadata": {},
     "output_type": "execute_result"
    }
   ],
   "source": [
    "price = DJIA_comb[['Date','Adj Close']]\n",
    "price.set_index('Date',drop=True,inplace=True) \n",
    "price.head()"
   ]
  },
  {
   "cell_type": "code",
   "execution_count": 167,
   "id": "875ceaae",
   "metadata": {},
   "outputs": [
    {
     "data": {
      "image/png": "[encoded data removed]",
      "text/plain": [
       "<Figure size 576x576 with 1 Axes>"
      ]
     },
     "metadata": {
      "needs_background": "light"
     },
     "output_type": "display_data"
    }
   ],
   "source": [
    "plt.plot(price)\n",
    "plt.show()"
   ]
  },
  {
   "cell_type": "code",
   "execution_count": 172,
   "id": "b3a42325",
   "metadata": {},
   "outputs": [],
   "source": [
    "dataset = price.values\n",
    "dataset = dataset.astype('float32')"
   ]
  },
  {
   "cell_type": "code",
   "execution_count": 173,
   "id": "4aa81e26",
   "metadata": {},
   "outputs": [],
   "source": [
    "# fix random seed for reproducibility\n",
    "np.random.seed(7)"
   ]
  },
  {
   "cell_type": "markdown",
   "id": "bca3b4db",
   "metadata": {},
   "source": [
    "LSTMs are sensitive to the scale of the input data, specifically when the sigmoid (default) or tanh activation functions are used. It can be a good practice to rescale the data to the range of 0-to-1, also called `normalizing`. We can easily normalize the dataset using the` MinMaxScaler` preprocessing class from the scikit-learn library."
   ]
  },
  {
   "cell_type": "code",
   "execution_count": 174,
   "id": "77116eff",
   "metadata": {},
   "outputs": [],
   "source": [
    "# normalize the dataset\n",
    "scaler = MinMaxScaler(feature_range=(0, 1))\n",
    "dataset = scaler.fit_transform(dataset)"
   ]
  },
  {
   "cell_type": "code",
   "execution_count": 175,
   "id": "c65a42a0",
   "metadata": {},
   "outputs": [
    {
     "name": "stdout",
     "output_type": "stream",
     "text": [
      "1588 397\n"
     ]
    }
   ],
   "source": [
    "# split into train and test sets\n",
    "train_size = int(len(dataset) * 0.8)\n",
    "test_size = len(dataset) - train_size\n",
    "train, test = dataset[0:train_size,:], dataset[train_size:len(dataset),:]\n",
    "print(len(train), len(test))"
   ]
  },
  {
   "cell_type": "markdown",
   "id": "e6b26c27",
   "metadata": {},
   "source": [
    "The function takes two arguments: the `dataset`, which is a NumPy array that we want to convert into a dataset, and the `look_back`, which is the number of previous time steps to use as input variables to predict the next time period — in this case defaulted to 1.\n",
    "\n",
    "The code below calculates the index of the split point and separates the data into the training datasets with 67% of the observations that we can use to train our model, leaving the remaining 33% for testing the model."
   ]
  },
  {
   "cell_type": "code",
   "execution_count": 176,
   "id": "456f7731",
   "metadata": {},
   "outputs": [],
   "source": [
    "# convert an array of values into a dataset matrix\n",
    "def create_dataset(dataset, look_back=1):\n",
    "    dataX, dataY = [], []\n",
    "    for i in range(len(dataset)-look_back-1):\n",
    "        a = dataset[i:(i+look_back), 0]\n",
    "        dataX.append(a)\n",
    "        dataY.append(dataset[i + look_back, 0])\n",
    "    return numpy.array(dataX), numpy.array(dataY)"
   ]
  },
  {
   "cell_type": "markdown",
   "id": "ac5bc96f",
   "metadata": {},
   "source": [
    "This default will create a dataset where X is the number of values at a given time (t) and Y is the number of passengers at the next time (t + 1)."
   ]
  },
  {
   "cell_type": "code",
   "execution_count": 177,
   "id": "7c0cfbd6",
   "metadata": {},
   "outputs": [
    {
     "data": {
      "text/plain": [
       "array([[0.44089425],\n",
       "       [0.44497645],\n",
       "       [0.43308735],\n",
       "       ...,\n",
       "       [0.92327726],\n",
       "       [0.9474975 ],\n",
       "       [0.9674978 ]], dtype=float32)"
      ]
     },
     "execution_count": 177,
     "metadata": {},
     "output_type": "execute_result"
    }
   ],
   "source": [
    "dataset"
   ]
  },
  {
   "cell_type": "code",
   "execution_count": 243,
   "id": "9d4b52f7",
   "metadata": {},
   "outputs": [
    {
     "data": {
      "text/plain": [
       "1985"
      ]
     },
     "execution_count": 243,
     "metadata": {},
     "output_type": "execute_result"
    }
   ],
   "source": [
    "len(dataset)"
   ]
  },
  {
   "cell_type": "markdown",
   "id": "3e9a62f4",
   "metadata": {},
   "source": [
    "Let’s use this function to prepare the train and test datasets for modeling."
   ]
  },
  {
   "cell_type": "code",
   "execution_count": 178,
   "id": "44be4d22",
   "metadata": {},
   "outputs": [],
   "source": [
    "# reshape into X=t, t+1, t+2, t+3 and Y=t+4\n",
    "look_back = 100\n",
    "X_train, y_train = create_dataset(train, look_back)\n",
    "X_test, y_test = create_dataset(test, look_back)"
   ]
  },
  {
   "cell_type": "code",
   "execution_count": 179,
   "id": "5c756148",
   "metadata": {},
   "outputs": [
    {
     "name": "stdout",
     "output_type": "stream",
     "text": [
      "(1487, 100)\n",
      "(1487,)\n",
      "(296, 100)\n",
      "(296,)\n"
     ]
    },
    {
     "data": {
      "text/plain": [
       "(None, None)"
      ]
     },
     "execution_count": 179,
     "metadata": {},
     "output_type": "execute_result"
    }
   ],
   "source": [
    "print(X_train.shape), print(y_train.shape)\n",
    "print(X_test.shape), print(y_test.shape)"
   ]
  },
  {
   "cell_type": "code",
   "execution_count": 199,
   "id": "2fe80724",
   "metadata": {},
   "outputs": [
    {
     "data": {
      "text/plain": [
       "(1487, 1, 100)"
      ]
     },
     "execution_count": 199,
     "metadata": {},
     "output_type": "execute_result"
    }
   ],
   "source": [
    "X_train.shape"
   ]
  },
  {
   "cell_type": "markdown",
   "id": "e1f8c667",
   "metadata": {},
   "source": [
    "We can transform the prepared train and test input data into the expected structure using numpy.reshape() as follows:"
   ]
  },
  {
   "cell_type": "code",
   "execution_count": 180,
   "id": "5407d352",
   "metadata": {},
   "outputs": [],
   "source": [
    "# reshape input to be [samples, time steps, features]\n",
    "X_train = numpy.reshape(X_train, (X_train.shape[0], 1, X_train.shape[1]))\n",
    "X_test = numpy.reshape(X_test, (X_test.shape[0], 1, X_test.shape[1]))"
   ]
  },
  {
   "cell_type": "markdown",
   "id": "e64d2288",
   "metadata": {},
   "source": [
    "We are now ready to design and fit our LSTM network for this problem.\n",
    "\n",
    "The network has a visible layer with 1 input, a hidden layer with 4 LSTM blocks or neurons, and an output layer that makes a single value prediction. The default sigmoid activation function is used for the LSTM blocks. The network is trained for 100 epochs and a batch size of 1 is used."
   ]
  },
  {
   "cell_type": "code",
   "execution_count": 150,
   "id": "1b553e48",
   "metadata": {},
   "outputs": [
    {
     "name": "stdout",
     "output_type": "stream",
     "text": [
      "Epoch 1/100\n",
      "1487/1487 - 4s - loss: 0.0026 - 4s/epoch - 3ms/step\n",
      "Epoch 2/100\n",
      "1487/1487 - 2s - loss: 0.0010 - 2s/epoch - 2ms/step\n",
      "Epoch 3/100\n",
      "1487/1487 - 3s - loss: 8.6527e-04 - 3s/epoch - 2ms/step\n",
      "Epoch 4/100\n",
      "1487/1487 - 2s - loss: 7.5636e-04 - 2s/epoch - 2ms/step\n",
      "Epoch 5/100\n",
      "1487/1487 - 2s - loss: 7.3412e-04 - 2s/epoch - 2ms/step\n",
      "Epoch 6/100\n",
      "1487/1487 - 2s - loss: 6.4428e-04 - 2s/epoch - 2ms/step\n",
      "Epoch 7/100\n",
      "1487/1487 - 2s - loss: 6.2352e-04 - 2s/epoch - 2ms/step\n",
      "Epoch 8/100\n",
      "1487/1487 - 2s - loss: 5.8850e-04 - 2s/epoch - 2ms/step\n",
      "Epoch 9/100\n",
      "1487/1487 - 2s - loss: 5.7788e-04 - 2s/epoch - 2ms/step\n",
      "Epoch 10/100\n",
      "1487/1487 - 2s - loss: 5.0621e-04 - 2s/epoch - 2ms/step\n",
      "Epoch 11/100\n",
      "1487/1487 - 2s - loss: 5.7289e-04 - 2s/epoch - 2ms/step\n",
      "Epoch 12/100\n",
      "1487/1487 - 3s - loss: 5.2921e-04 - 3s/epoch - 2ms/step\n",
      "Epoch 13/100\n",
      "1487/1487 - 2s - loss: 5.0008e-04 - 2s/epoch - 2ms/step\n",
      "Epoch 14/100\n",
      "1487/1487 - 2s - loss: 4.4946e-04 - 2s/epoch - 2ms/step\n",
      "Epoch 15/100\n",
      "1487/1487 - 2s - loss: 4.9199e-04 - 2s/epoch - 2ms/step\n",
      "Epoch 16/100\n",
      "1487/1487 - 3s - loss: 4.5873e-04 - 3s/epoch - 2ms/step\n",
      "Epoch 17/100\n",
      "1487/1487 - 2s - loss: 4.4488e-04 - 2s/epoch - 2ms/step\n",
      "Epoch 18/100\n",
      "1487/1487 - 2s - loss: 4.3173e-04 - 2s/epoch - 2ms/step\n",
      "Epoch 19/100\n",
      "1487/1487 - 3s - loss: 4.2864e-04 - 3s/epoch - 2ms/step\n",
      "Epoch 20/100\n",
      "1487/1487 - 3s - loss: 4.1771e-04 - 3s/epoch - 2ms/step\n",
      "Epoch 21/100\n",
      "1487/1487 - 3s - loss: 4.2632e-04 - 3s/epoch - 2ms/step\n",
      "Epoch 22/100\n",
      "1487/1487 - 3s - loss: 4.2728e-04 - 3s/epoch - 2ms/step\n",
      "Epoch 23/100\n",
      "1487/1487 - 2s - loss: 3.6640e-04 - 2s/epoch - 2ms/step\n",
      "Epoch 24/100\n",
      "1487/1487 - 2s - loss: 3.9277e-04 - 2s/epoch - 2ms/step\n",
      "Epoch 25/100\n",
      "1487/1487 - 2s - loss: 3.9920e-04 - 2s/epoch - 2ms/step\n",
      "Epoch 26/100\n",
      "1487/1487 - 2s - loss: 3.7488e-04 - 2s/epoch - 2ms/step\n",
      "Epoch 27/100\n",
      "1487/1487 - 2s - loss: 3.6131e-04 - 2s/epoch - 2ms/step\n",
      "Epoch 28/100\n",
      "1487/1487 - 3s - loss: 3.5025e-04 - 3s/epoch - 2ms/step\n",
      "Epoch 29/100\n",
      "1487/1487 - 2s - loss: 3.5454e-04 - 2s/epoch - 2ms/step\n",
      "Epoch 30/100\n",
      "1487/1487 - 2s - loss: 4.2196e-04 - 2s/epoch - 2ms/step\n",
      "Epoch 31/100\n",
      "1487/1487 - 3s - loss: 4.0431e-04 - 3s/epoch - 2ms/step\n",
      "Epoch 32/100\n",
      "1487/1487 - 2s - loss: 3.3661e-04 - 2s/epoch - 2ms/step\n",
      "Epoch 33/100\n",
      "1487/1487 - 2s - loss: 3.6309e-04 - 2s/epoch - 2ms/step\n",
      "Epoch 34/100\n",
      "1487/1487 - 2s - loss: 3.6595e-04 - 2s/epoch - 2ms/step\n",
      "Epoch 35/100\n",
      "1487/1487 - 2s - loss: 3.1324e-04 - 2s/epoch - 2ms/step\n",
      "Epoch 36/100\n",
      "1487/1487 - 2s - loss: 3.4221e-04 - 2s/epoch - 2ms/step\n",
      "Epoch 37/100\n",
      "1487/1487 - 3s - loss: 3.0882e-04 - 3s/epoch - 2ms/step\n",
      "Epoch 38/100\n",
      "1487/1487 - 3s - loss: 3.6480e-04 - 3s/epoch - 2ms/step\n",
      "Epoch 39/100\n",
      "1487/1487 - 2s - loss: 3.0973e-04 - 2s/epoch - 2ms/step\n",
      "Epoch 40/100\n",
      "1487/1487 - 2s - loss: 3.4413e-04 - 2s/epoch - 2ms/step\n",
      "Epoch 41/100\n",
      "1487/1487 - 2s - loss: 3.0115e-04 - 2s/epoch - 2ms/step\n",
      "Epoch 42/100\n",
      "1487/1487 - 2s - loss: 3.4130e-04 - 2s/epoch - 2ms/step\n",
      "Epoch 43/100\n",
      "1487/1487 - 3s - loss: 3.5601e-04 - 3s/epoch - 2ms/step\n",
      "Epoch 44/100\n",
      "1487/1487 - 3s - loss: 2.8501e-04 - 3s/epoch - 2ms/step\n",
      "Epoch 45/100\n",
      "1487/1487 - 3s - loss: 3.5856e-04 - 3s/epoch - 2ms/step\n",
      "Epoch 46/100\n",
      "1487/1487 - 3s - loss: 2.9414e-04 - 3s/epoch - 2ms/step\n",
      "Epoch 47/100\n",
      "1487/1487 - 3s - loss: 3.1675e-04 - 3s/epoch - 2ms/step\n",
      "Epoch 48/100\n",
      "1487/1487 - 2s - loss: 2.8279e-04 - 2s/epoch - 2ms/step\n",
      "Epoch 49/100\n",
      "1487/1487 - 3s - loss: 3.4338e-04 - 3s/epoch - 2ms/step\n",
      "Epoch 50/100\n",
      "1487/1487 - 3s - loss: 2.8766e-04 - 3s/epoch - 2ms/step\n",
      "Epoch 51/100\n",
      "1487/1487 - 2s - loss: 2.9996e-04 - 2s/epoch - 2ms/step\n",
      "Epoch 52/100\n",
      "1487/1487 - 2s - loss: 3.1522e-04 - 2s/epoch - 2ms/step\n",
      "Epoch 53/100\n",
      "1487/1487 - 2s - loss: 3.1309e-04 - 2s/epoch - 2ms/step\n",
      "Epoch 54/100\n",
      "1487/1487 - 3s - loss: 2.9244e-04 - 3s/epoch - 2ms/step\n",
      "Epoch 55/100\n",
      "1487/1487 - 3s - loss: 2.6366e-04 - 3s/epoch - 2ms/step\n",
      "Epoch 56/100\n",
      "1487/1487 - 3s - loss: 3.3179e-04 - 3s/epoch - 2ms/step\n",
      "Epoch 57/100\n",
      "1487/1487 - 2s - loss: 2.8789e-04 - 2s/epoch - 2ms/step\n",
      "Epoch 58/100\n",
      "1487/1487 - 2s - loss: 3.2289e-04 - 2s/epoch - 2ms/step\n",
      "Epoch 59/100\n",
      "1487/1487 - 2s - loss: 2.5927e-04 - 2s/epoch - 2ms/step\n",
      "Epoch 60/100\n",
      "1487/1487 - 2s - loss: 3.0708e-04 - 2s/epoch - 2ms/step\n",
      "Epoch 61/100\n",
      "1487/1487 - 2s - loss: 2.7515e-04 - 2s/epoch - 2ms/step\n",
      "Epoch 62/100\n",
      "1487/1487 - 2s - loss: 2.7206e-04 - 2s/epoch - 2ms/step\n",
      "Epoch 63/100\n",
      "1487/1487 - 2s - loss: 2.9689e-04 - 2s/epoch - 2ms/step\n",
      "Epoch 64/100\n",
      "1487/1487 - 2s - loss: 2.6225e-04 - 2s/epoch - 2ms/step\n",
      "Epoch 65/100\n",
      "1487/1487 - 2s - loss: 2.5033e-04 - 2s/epoch - 2ms/step\n",
      "Epoch 66/100\n",
      "1487/1487 - 2s - loss: 2.8100e-04 - 2s/epoch - 2ms/step\n",
      "Epoch 67/100\n",
      "1487/1487 - 2s - loss: 3.0747e-04 - 2s/epoch - 2ms/step\n",
      "Epoch 68/100\n",
      "1487/1487 - 2s - loss: 2.8417e-04 - 2s/epoch - 2ms/step\n",
      "Epoch 69/100\n",
      "1487/1487 - 2s - loss: 2.5987e-04 - 2s/epoch - 2ms/step\n",
      "Epoch 70/100\n",
      "1487/1487 - 2s - loss: 2.5229e-04 - 2s/epoch - 2ms/step\n",
      "Epoch 71/100\n",
      "1487/1487 - 2s - loss: 2.6400e-04 - 2s/epoch - 2ms/step\n",
      "Epoch 72/100\n",
      "1487/1487 - 2s - loss: 2.7456e-04 - 2s/epoch - 2ms/step\n",
      "Epoch 73/100\n",
      "1487/1487 - 2s - loss: 2.9959e-04 - 2s/epoch - 2ms/step\n",
      "Epoch 74/100\n",
      "1487/1487 - 2s - loss: 2.7401e-04 - 2s/epoch - 2ms/step\n",
      "Epoch 75/100\n",
      "1487/1487 - 2s - loss: 2.6039e-04 - 2s/epoch - 2ms/step\n",
      "Epoch 76/100\n",
      "1487/1487 - 2s - loss: 2.4454e-04 - 2s/epoch - 2ms/step\n",
      "Epoch 77/100\n",
      "1487/1487 - 3s - loss: 2.8316e-04 - 3s/epoch - 2ms/step\n",
      "Epoch 78/100\n",
      "1487/1487 - 3s - loss: 2.5618e-04 - 3s/epoch - 2ms/step\n",
      "Epoch 79/100\n",
      "1487/1487 - 2s - loss: 2.6490e-04 - 2s/epoch - 2ms/step\n",
      "Epoch 80/100\n",
      "1487/1487 - 2s - loss: 2.8015e-04 - 2s/epoch - 2ms/step\n",
      "Epoch 81/100\n",
      "1487/1487 - 2s - loss: 2.4120e-04 - 2s/epoch - 2ms/step\n",
      "Epoch 82/100\n",
      "1487/1487 - 2s - loss: 2.3470e-04 - 2s/epoch - 2ms/step\n",
      "Epoch 83/100\n",
      "1487/1487 - 2s - loss: 2.6800e-04 - 2s/epoch - 2ms/step\n",
      "Epoch 84/100\n",
      "1487/1487 - 2s - loss: 2.4859e-04 - 2s/epoch - 2ms/step\n",
      "Epoch 85/100\n",
      "1487/1487 - 2s - loss: 2.4095e-04 - 2s/epoch - 2ms/step\n",
      "Epoch 86/100\n",
      "1487/1487 - 2s - loss: 2.5094e-04 - 2s/epoch - 2ms/step\n",
      "Epoch 87/100\n",
      "1487/1487 - 2s - loss: 2.6783e-04 - 2s/epoch - 2ms/step\n",
      "Epoch 88/100\n",
      "1487/1487 - 2s - loss: 2.6570e-04 - 2s/epoch - 2ms/step\n",
      "Epoch 89/100\n",
      "1487/1487 - 2s - loss: 2.7994e-04 - 2s/epoch - 2ms/step\n",
      "Epoch 90/100\n",
      "1487/1487 - 2s - loss: 2.8582e-04 - 2s/epoch - 2ms/step\n",
      "Epoch 91/100\n",
      "1487/1487 - 2s - loss: 2.4192e-04 - 2s/epoch - 2ms/step\n",
      "Epoch 92/100\n",
      "1487/1487 - 2s - loss: 2.4569e-04 - 2s/epoch - 2ms/step\n",
      "Epoch 93/100\n",
      "1487/1487 - 2s - loss: 2.7503e-04 - 2s/epoch - 2ms/step\n",
      "Epoch 94/100\n",
      "1487/1487 - 2s - loss: 2.3311e-04 - 2s/epoch - 2ms/step\n",
      "Epoch 95/100\n",
      "1487/1487 - 2s - loss: 2.5877e-04 - 2s/epoch - 2ms/step\n",
      "Epoch 96/100\n",
      "1487/1487 - 2s - loss: 2.3057e-04 - 2s/epoch - 2ms/step\n",
      "Epoch 97/100\n",
      "1487/1487 - 2s - loss: 2.5569e-04 - 2s/epoch - 2ms/step\n",
      "Epoch 98/100\n",
      "1487/1487 - 2s - loss: 2.9479e-04 - 2s/epoch - 2ms/step\n",
      "Epoch 99/100\n",
      "1487/1487 - 2s - loss: 2.3442e-04 - 2s/epoch - 2ms/step\n",
      "Epoch 100/100\n",
      "1487/1487 - 2s - loss: 2.3072e-04 - 2s/epoch - 2ms/step\n"
     ]
    },
    {
     "data": {
      "text/plain": [
       "<keras.callbacks.History at 0x12182df9070>"
      ]
     },
     "execution_count": 150,
     "metadata": {},
     "output_type": "execute_result"
    }
   ],
   "source": [
    "\n",
    "# create and fit the LSTM network\n",
    "model = Sequential()\n",
    "model.add(LSTM(50, input_shape=(1, look_back)))\n",
    "model.add(Dense(1))\n",
    "model.compile(loss='mean_squared_error', optimizer='adam')\n",
    "model.fit(X_train, y_train, epochs=100, batch_size=1, verbose=0)"
   ]
  },
  {
   "cell_type": "code",
   "execution_count": 181,
   "id": "67416e9b",
   "metadata": {},
   "outputs": [
    {
     "name": "stdout",
     "output_type": "stream",
     "text": [
      "Model: \"sequential_11\"\n",
      "_________________________________________________________________\n",
      " Layer (type)                Output Shape              Param #   \n",
      "=================================================================\n",
      " lstm_19 (LSTM)              (None, 50)                30200     \n",
      "                                                                 \n",
      " dense_11 (Dense)            (None, 1)                 51        \n",
      "                                                                 \n",
      "=================================================================\n",
      "Total params: 30,251\n",
      "Trainable params: 30,251\n",
      "Non-trainable params: 0\n",
      "_________________________________________________________________\n"
     ]
    }
   ],
   "source": [
    "model.summary()"
   ]
  },
  {
   "cell_type": "markdown",
   "id": "8b586628",
   "metadata": {},
   "source": [
    "Note that we invert the predictions before calculating error scores to ensure that performance is reported in the same units as the original data "
   ]
  },
  {
   "cell_type": "code",
   "execution_count": 182,
   "id": "051ad40e",
   "metadata": {},
   "outputs": [
    {
     "name": "stdout",
     "output_type": "stream",
     "text": [
      "Train Score: 180.79 RMSE\n",
      "Test Score: 340.61 RMSE\n"
     ]
    }
   ],
   "source": [
    "# make predictions\n",
    "trainPredict = model.predict(X_train)\n",
    "testPredict = model.predict(X_test)\n",
    "\n",
    "# invert predictions\n",
    "trainPredict = scaler.inverse_transform(trainPredict)\n",
    "y_train = scaler.inverse_transform([y_train])\n",
    "testPredict = scaler.inverse_transform(testPredict)\n",
    "y_test = scaler.inverse_transform([y_test])\n",
    "\n",
    "# calculate root mean squared error\n",
    "trainScore = math.sqrt(mean_squared_error(y_train[0], trainPredict[:,0]))\n",
    "\n",
    "print('Train Score: %.2f RMSE' % (trainScore))\n",
    "testScore = math.sqrt(mean_squared_error(y_test[0], testPredict[:,0]))\n",
    "print('Test Score: %.2f RMSE' % (testScore))"
   ]
  },
  {
   "cell_type": "markdown",
   "id": "9cc96991",
   "metadata": {},
   "source": [
    "#### Observation:\n",
    "    We can see that the model has an average error of about 138 on the training dataset, and about 304 on the test dataset."
   ]
  },
  {
   "cell_type": "markdown",
   "id": "68e6a1e9",
   "metadata": {},
   "source": [
    "The data is plotted, showing the original dataset in blue, the predictions for the training dataset in green, and the predictions on the unseen test dataset in orange."
   ]
  },
  {
   "cell_type": "code",
   "execution_count": 72,
   "id": "24617c20",
   "metadata": {},
   "outputs": [
    {
     "data": {
      "image/png": "[encoded data removed]",
      "text/plain": [
       "<Figure size 576x576 with 1 Axes>"
      ]
     },
     "metadata": {
      "needs_background": "light"
     },
     "output_type": "display_data"
    }
   ],
   "source": [
    "\n",
    "# shift train predictions for plotting\n",
    "trainPredictPlot = numpy.empty_like(dataset)\n",
    "trainPredictPlot[:, :] = numpy.nan\n",
    "trainPredictPlot[look_back:len(trainPredict)+look_back, :] = trainPredict\n",
    "# shift test predictions for plotting\n",
    "testPredictPlot = numpy.empty_like(dataset)\n",
    "testPredictPlot[:, :] = numpy.nan\n",
    "testPredictPlot[len(trainPredict)+(look_back*2)+1:len(dataset)-1, :] = testPredict\n",
    "# plot baseline and predictions\n",
    "plt.plot(scaler.inverse_transform(dataset))\n",
    "plt.plot(trainPredictPlot)\n",
    "plt.plot(testPredictPlot)\n",
    "plt.show()"
   ]
  },
  {
   "cell_type": "markdown",
   "id": "7a63354e",
   "metadata": {},
   "source": [
    "###  Stacked LSTM with Memory Between Batches"
   ]
  },
  {
   "cell_type": "code",
   "execution_count": 318,
   "id": "bc71e811",
   "metadata": {},
   "outputs": [],
   "source": [
    "# convert an array of values into a dataset matrix\n",
    "def create_dataset(dataset, look_back=1):\n",
    "    dataX, dataY = [], []\n",
    "    for i in range(len(dataset)-look_back-1):\n",
    "        a = dataset[i:(i+look_back), 0]\n",
    "        dataX.append(a)\n",
    "        dataY.append(dataset[i + look_back, 0])\n",
    "    return numpy.array(dataX), numpy.array(dataY)"
   ]
  },
  {
   "cell_type": "code",
   "execution_count": 319,
   "id": "bdde6b6f",
   "metadata": {},
   "outputs": [],
   "source": [
    "numpy.random.seed(7)"
   ]
  },
  {
   "cell_type": "code",
   "execution_count": 320,
   "id": "282303cd",
   "metadata": {},
   "outputs": [],
   "source": [
    "dataset = price.values\n",
    "dataset = dataset.astype('float32')"
   ]
  },
  {
   "cell_type": "code",
   "execution_count": 321,
   "id": "cd3e8d6a",
   "metadata": {},
   "outputs": [
    {
     "data": {
      "text/plain": [
       "1985"
      ]
     },
     "execution_count": 321,
     "metadata": {},
     "output_type": "execute_result"
    }
   ],
   "source": [
    "len(dataset)"
   ]
  },
  {
   "cell_type": "code",
   "execution_count": 322,
   "id": "f1992349",
   "metadata": {},
   "outputs": [],
   "source": [
    "# normalize the dataset\n",
    "scaler = MinMaxScaler(feature_range=(0, 1))\n",
    "dataset = scaler.fit_transform(dataset)"
   ]
  },
  {
   "cell_type": "code",
   "execution_count": 323,
   "id": "d9359e94",
   "metadata": {},
   "outputs": [],
   "source": [
    "# split into train and test sets\n",
    "train_size = int(len(dataset) * 0.67)\n",
    "test_size = len(dataset) - train_size\n",
    "train, test = dataset[0:train_size,:], dataset[train_size:len(dataset),:]"
   ]
  },
  {
   "cell_type": "code",
   "execution_count": 324,
   "id": "ff4087d7",
   "metadata": {},
   "outputs": [],
   "source": [
    "# reshape into  X=t, t+1, t+2, t+3 and Y=t+4\n",
    "look_back = 100\n",
    "X_train, y_train = create_dataset(train, look_back)\n",
    "X_test, y_test = create_dataset(test, look_back)\n",
    "# reshape input to be [samples, time steps, features]\n",
    "# X_train = numpy.reshape(X_train, (X_train.shape[0], X_train.shape[1], 1))\n",
    "# X_test = numpy.reshape(X_test, (X_test.shape[0], X_test.shape[1], 1))"
   ]
  },
  {
   "cell_type": "code",
   "execution_count": 325,
   "id": "e5a5e37f",
   "metadata": {},
   "outputs": [
    {
     "name": "stdout",
     "output_type": "stream",
     "text": [
      "(1228, 100)\n",
      "(1228,)\n",
      "(555, 100)\n",
      "(555,)\n"
     ]
    },
    {
     "data": {
      "text/plain": [
       "(None, None)"
      ]
     },
     "execution_count": 325,
     "metadata": {},
     "output_type": "execute_result"
    }
   ],
   "source": [
    "print(X_train.shape), print(y_train.shape)\n",
    "print(X_test.shape), print(y_test.shape)"
   ]
  },
  {
   "cell_type": "code",
   "execution_count": 326,
   "id": "9257c248",
   "metadata": {},
   "outputs": [],
   "source": [
    "# reshape input to be [samples, time steps, features] which is required for LSTM\n",
    "X_train =X_train.reshape(X_train.shape[0],X_train.shape[1] , 1)\n",
    "X_test = X_test.reshape(X_test.shape[0],X_test.shape[1] , 1)"
   ]
  },
  {
   "cell_type": "code",
   "execution_count": 327,
   "id": "4f71b449",
   "metadata": {},
   "outputs": [
    {
     "name": "stdout",
     "output_type": "stream",
     "text": [
      "(1228, 100, 1)\n",
      "(1228,)\n",
      "(555, 100, 1)\n",
      "(555,)\n"
     ]
    },
    {
     "data": {
      "text/plain": [
       "(None, None)"
      ]
     },
     "execution_count": 327,
     "metadata": {},
     "output_type": "execute_result"
    }
   ],
   "source": [
    "print(X_train.shape), print(y_train.shape)\n",
    "print(X_test.shape), print(y_test.shape)"
   ]
  },
  {
   "cell_type": "code",
   "execution_count": 328,
   "id": "b952afb8",
   "metadata": {},
   "outputs": [
    {
     "data": {
      "text/plain": [
       "656"
      ]
     },
     "execution_count": 328,
     "metadata": {},
     "output_type": "execute_result"
    }
   ],
   "source": [
    "len(test)"
   ]
  },
  {
   "cell_type": "code",
   "execution_count": 329,
   "id": "0c7b2ee5",
   "metadata": {},
   "outputs": [],
   "source": [
    "# # create and fit the LSTM network\n",
    "# batch_size = 1\n",
    "# model = Sequential()\n",
    "# model.add(LSTM(50, batch_input_shape=(batch_size, look_back, 1), stateful=True, return_sequences=True))\n",
    "# model.add(LSTM(50, batch_input_shape=(batch_size, look_back, 1), stateful=True))\n",
    "# model.add(Dense(1))\n",
    "# model.compile(loss='mean_squared_error', optimizer='adam')"
   ]
  },
  {
   "cell_type": "code",
   "execution_count": 330,
   "id": "05c800f0",
   "metadata": {},
   "outputs": [],
   "source": [
    "batch_size = 1\n",
    "model=Sequential()\n",
    "model.add(LSTM(50, return_sequences=True, input_shape=(100,1)))\n",
    "model.add(LSTM(50, return_sequences=True))\n",
    "model.add(LSTM(50))\n",
    "model.add(Dense(1))\n",
    "model.compile(loss='mean_squared_error',optimizer='adam')\n"
   ]
  },
  {
   "cell_type": "code",
   "execution_count": 331,
   "id": "ba48da6f",
   "metadata": {},
   "outputs": [
    {
     "name": "stdout",
     "output_type": "stream",
     "text": [
      "Model: \"sequential_19\"\n",
      "_________________________________________________________________\n",
      " Layer (type)                Output Shape              Param #   \n",
      "=================================================================\n",
      " lstm_41 (LSTM)              (None, 100, 50)           10400     \n",
      "                                                                 \n",
      " lstm_42 (LSTM)              (None, 100, 50)           20200     \n",
      "                                                                 \n",
      " lstm_43 (LSTM)              (None, 50)                20200     \n",
      "                                                                 \n",
      " dense_19 (Dense)            (None, 1)                 51        \n",
      "                                                                 \n",
      "=================================================================\n",
      "Total params: 50,851\n",
      "Trainable params: 50,851\n",
      "Non-trainable params: 0\n",
      "_________________________________________________________________\n"
     ]
    }
   ],
   "source": [
    "model.summary()"
   ]
  },
  {
   "cell_type": "code",
   "execution_count": 333,
   "id": "9011cc67",
   "metadata": {},
   "outputs": [
    {
     "name": "stdout",
     "output_type": "stream",
     "text": [
      "Epoch 1/5\n",
      "1228/1228 [==============================] - 71s 58ms/step - loss: 7.6541e-04 - val_loss: 0.0015\n",
      "Epoch 2/5\n",
      "1228/1228 [==============================] - 70s 57ms/step - loss: 6.0689e-04 - val_loss: 5.8670e-04\n",
      "Epoch 3/5\n",
      "1228/1228 [==============================] - 69s 56ms/step - loss: 4.3811e-04 - val_loss: 0.0017\n",
      "Epoch 4/5\n",
      "1228/1228 [==============================] - 69s 56ms/step - loss: 4.1026e-04 - val_loss: 1.9987e-04\n",
      "Epoch 5/5\n",
      "1228/1228 [==============================] - 71s 57ms/step - loss: 2.8259e-04 - val_loss: 1.8062e-04\n"
     ]
    },
    {
     "data": {
      "text/plain": [
       "<keras.callbacks.History at 0x12238133400>"
      ]
     },
     "execution_count": 333,
     "metadata": {},
     "output_type": "execute_result"
    }
   ],
   "source": [
    "model.fit(X_train,y_train,validation_data=(X_test,y_test),epochs=5,batch_size=1,verbose=1)"
   ]
  },
  {
   "cell_type": "code",
   "execution_count": 334,
   "id": "1e707731",
   "metadata": {},
   "outputs": [],
   "source": [
    "trainPredict = model.predict(X_train, batch_size=batch_size)\n",
    "model.reset_states()\n",
    "testPredict = model.predict(X_test, batch_size=batch_size)"
   ]
  },
  {
   "cell_type": "code",
   "execution_count": 309,
   "id": "1e0e13fb",
   "metadata": {},
   "outputs": [],
   "source": [
    "# ##Transformback to original form\n",
    "# train_predict=scaler.inverse_transform(train_predict)\n",
    "# test_predict=scaler.inverse_transform(test_predict)"
   ]
  },
  {
   "cell_type": "code",
   "execution_count": 335,
   "id": "e38ea3b2",
   "metadata": {},
   "outputs": [],
   "source": [
    "# invert predictions\n",
    "trainPredict = scaler.inverse_transform(trainPredict)\n",
    "y_train = scaler.inverse_transform([y_train])\n",
    "testPredict = scaler.inverse_transform(testPredict)\n",
    "y_test = scaler.inverse_transform([y_test])"
   ]
  },
  {
   "cell_type": "code",
   "execution_count": 336,
   "id": "8bf2d5d0",
   "metadata": {},
   "outputs": [
    {
     "name": "stdout",
     "output_type": "stream",
     "text": [
      "Train Score: 126.95 RMSE\n",
      "Test Score: 158.12 RMSE\n"
     ]
    }
   ],
   "source": [
    "# calculate root mean squared error\n",
    "trainScore = math.sqrt(mean_squared_error(y_train[0], trainPredict[:,0]))\n",
    "print('Train Score: %.2f RMSE' % (trainScore))\n",
    "testScore = math.sqrt(mean_squared_error(y_test[0], testPredict[:,0]))\n",
    "print('Test Score: %.2f RMSE' % (testScore))"
   ]
  },
  {
   "cell_type": "markdown",
   "id": "f9a76862",
   "metadata": {},
   "source": [
    "#### Observation:\n",
    "\n",
    "        The LSTM - RMSE test score looks very good than the first model."
   ]
  },
  {
   "cell_type": "code",
   "execution_count": 339,
   "id": "39cd5fd1",
   "metadata": {},
   "outputs": [
    {
     "data": {
      "image/png": "[encoded data removed]",
      "text/plain": [
       "<Figure size 576x576 with 1 Axes>"
      ]
     },
     "metadata": {
      "needs_background": "light"
     },
     "output_type": "display_data"
    }
   ],
   "source": [
    "# shift train predictions for plotting\n",
    "trainPredictPlot = numpy.empty_like(dataset)\n",
    "trainPredictPlot[:, :] = numpy.nan\n",
    "trainPredictPlot[look_back:len(trainPredict)+look_back, :] = trainPredict\n",
    "\n",
    "# shift test predictions for plotting\n",
    "testPredictPlot = numpy.empty_like(dataset)\n",
    "testPredictPlot[:, :] = numpy.nan\n",
    "testPredictPlot[len(trainPredict)+(look_back*2)+1:len(dataset)-1, :] = testPredict\n",
    "\n",
    "# plot baseline and predictions\n",
    "plt.plot(scaler.inverse_transform(dataset))\n",
    "plt.plot(trainPredictPlot)\n",
    "plt.plot(testPredictPlot)\n",
    "plt.show()"
   ]
  },
  {
   "cell_type": "markdown",
   "id": "f27a0f73",
   "metadata": {},
   "source": [
    "#### Observations:\n",
    "\n",
    "       This is the predicted dataset abd it is plotted, showing the original dataset in blue, the predictions for the test dataset in green, and the predictions on the trained dataset in orange. RMSE Train Score: 126.95 RMSE Test Score: 158.12 are looking good."
   ]
  },
  {
   "cell_type": "markdown",
   "id": "d10ba175",
   "metadata": {},
   "source": [
    "#### Predict the future 30 days"
   ]
  },
  {
   "cell_type": "code",
   "execution_count": 340,
   "id": "a4439125",
   "metadata": {},
   "outputs": [
    {
     "data": {
      "text/plain": [
       "656"
      ]
     },
     "execution_count": 340,
     "metadata": {},
     "output_type": "execute_result"
    }
   ],
   "source": [
    "len(test)"
   ]
  },
  {
   "cell_type": "code",
   "execution_count": 354,
   "id": "4d4ceacd",
   "metadata": {},
   "outputs": [
    {
     "data": {
      "text/plain": [
       "(1, 100)"
      ]
     },
     "execution_count": 354,
     "metadata": {},
     "output_type": "execute_result"
    }
   ],
   "source": [
    "# 656 - 100 = 556\n",
    "x_input=test[556:].reshape(1,-1)\n",
    "x_input.shape"
   ]
  },
  {
   "cell_type": "code",
   "execution_count": 355,
   "id": "780e0135",
   "metadata": {},
   "outputs": [],
   "source": [
    "temp_input=list(x_input)\n",
    "temp_input=temp_input[0].tolist()"
   ]
  },
  {
   "cell_type": "code",
   "execution_count": 356,
   "id": "cc0a810d",
   "metadata": {},
   "outputs": [
    {
     "name": "stdout",
     "output_type": "stream",
     "text": [
      "[0.96479356]\n",
      "101\n",
      "1 day input [0.79621077 0.77457428 0.80123401 0.82015145 0.84203088 0.83859706\n",
      " 0.83677483 0.85621071 0.84015667 0.84467936 0.86272383 0.85785198\n",
      " 0.84735763 0.87698531 0.87989557 0.88368464 0.88902819 0.8947382\n",
      " 0.88540149 0.88848341 0.88803899 0.90658331 0.90792799 0.90983176\n",
      " 0.91614091 0.92937732 0.93964565 0.94147885 0.93796873 0.9311707\n",
      " 0.93228757 0.93395865 0.94226432 0.94936574 0.94668233 0.95583296\n",
      " 0.95109451 0.93973231 0.94931388 0.93451703 0.93749189 0.93574512\n",
      " 0.94975579 0.96565247 0.96719515 0.96473289 0.97380185 0.97800398\n",
      " 0.9816308  0.97196257 0.97376704 0.97151375 0.97262561 0.97697985\n",
      " 0.95906365 0.95420873 0.9641974  0.95227683 0.94380701 0.94461024\n",
      " 0.95140314 0.948452   0.96735835 0.94889474 0.94969201 0.93395269\n",
      " 0.94886005 0.93349874 0.93321311 0.92545986 0.93103039 0.93034959\n",
      " 0.94846392 0.96082735 0.9588536  0.96267259 0.95536125 0.95557117\n",
      " 0.95972669 0.95704937 0.96667671 0.96820235 0.97387755 0.97218943\n",
      " 0.96200275 0.9507103  0.94580948 0.94286442 0.95076299 0.94583833\n",
      " 0.95686305 0.95897615 0.9548198  0.9743892  0.9225148  0.90037262\n",
      " 0.92327726 0.94749749 0.96749783 0.96479356]\n",
      "1 day output [[0.95705307]]\n",
      "2 day input [0.77457428 0.80123401 0.82015145 0.84203088 0.83859706 0.83677483\n",
      " 0.85621071 0.84015667 0.84467936 0.86272383 0.85785198 0.84735763\n",
      " 0.87698531 0.87989557 0.88368464 0.88902819 0.8947382  0.88540149\n",
      " 0.88848341 0.88803899 0.90658331 0.90792799 0.90983176 0.91614091\n",
      " 0.92937732 0.93964565 0.94147885 0.93796873 0.9311707  0.93228757\n",
      " 0.93395865 0.94226432 0.94936574 0.94668233 0.95583296 0.95109451\n",
      " 0.93973231 0.94931388 0.93451703 0.93749189 0.93574512 0.94975579\n",
      " 0.96565247 0.96719515 0.96473289 0.97380185 0.97800398 0.9816308\n",
      " 0.97196257 0.97376704 0.97151375 0.97262561 0.97697985 0.95906365\n",
      " 0.95420873 0.9641974  0.95227683 0.94380701 0.94461024 0.95140314\n",
      " 0.948452   0.96735835 0.94889474 0.94969201 0.93395269 0.94886005\n",
      " 0.93349874 0.93321311 0.92545986 0.93103039 0.93034959 0.94846392\n",
      " 0.96082735 0.9588536  0.96267259 0.95536125 0.95557117 0.95972669\n",
      " 0.95704937 0.96667671 0.96820235 0.97387755 0.97218943 0.96200275\n",
      " 0.9507103  0.94580948 0.94286442 0.95076299 0.94583833 0.95686305\n",
      " 0.95897615 0.9548198  0.9743892  0.9225148  0.90037262 0.92327726\n",
      " 0.94749749 0.96749783 0.96479356 0.95705307]\n",
      "2 day output [[0.9484769]]\n",
      "3 day input [0.80123401 0.82015145 0.84203088 0.83859706 0.83677483 0.85621071\n",
      " 0.84015667 0.84467936 0.86272383 0.85785198 0.84735763 0.87698531\n",
      " 0.87989557 0.88368464 0.88902819 0.8947382  0.88540149 0.88848341\n",
      " 0.88803899 0.90658331 0.90792799 0.90983176 0.91614091 0.92937732\n",
      " 0.93964565 0.94147885 0.93796873 0.9311707  0.93228757 0.93395865\n",
      " 0.94226432 0.94936574 0.94668233 0.95583296 0.95109451 0.93973231\n",
      " 0.94931388 0.93451703 0.93749189 0.93574512 0.94975579 0.96565247\n",
      " 0.96719515 0.96473289 0.97380185 0.97800398 0.9816308  0.97196257\n",
      " 0.97376704 0.97151375 0.97262561 0.97697985 0.95906365 0.95420873\n",
      " 0.9641974  0.95227683 0.94380701 0.94461024 0.95140314 0.948452\n",
      " 0.96735835 0.94889474 0.94969201 0.93395269 0.94886005 0.93349874\n",
      " 0.93321311 0.92545986 0.93103039 0.93034959 0.94846392 0.96082735\n",
      " 0.9588536  0.96267259 0.95536125 0.95557117 0.95972669 0.95704937\n",
      " 0.96667671 0.96820235 0.97387755 0.97218943 0.96200275 0.9507103\n",
      " 0.94580948 0.94286442 0.95076299 0.94583833 0.95686305 0.95897615\n",
      " 0.9548198  0.9743892  0.9225148  0.90037262 0.92327726 0.94749749\n",
      " 0.96749783 0.96479356 0.95705307 0.94847691]\n",
      "3 day output [[0.9421553]]\n",
      "4 day input [0.82015145 0.84203088 0.83859706 0.83677483 0.85621071 0.84015667\n",
      " 0.84467936 0.86272383 0.85785198 0.84735763 0.87698531 0.87989557\n",
      " 0.88368464 0.88902819 0.8947382  0.88540149 0.88848341 0.88803899\n",
      " 0.90658331 0.90792799 0.90983176 0.91614091 0.92937732 0.93964565\n",
      " 0.94147885 0.93796873 0.9311707  0.93228757 0.93395865 0.94226432\n",
      " 0.94936574 0.94668233 0.95583296 0.95109451 0.93973231 0.94931388\n",
      " 0.93451703 0.93749189 0.93574512 0.94975579 0.96565247 0.96719515\n",
      " 0.96473289 0.97380185 0.97800398 0.9816308  0.97196257 0.97376704\n",
      " 0.97151375 0.97262561 0.97697985 0.95906365 0.95420873 0.9641974\n",
      " 0.95227683 0.94380701 0.94461024 0.95140314 0.948452   0.96735835\n",
      " 0.94889474 0.94969201 0.93395269 0.94886005 0.93349874 0.93321311\n",
      " 0.92545986 0.93103039 0.93034959 0.94846392 0.96082735 0.9588536\n",
      " 0.96267259 0.95536125 0.95557117 0.95972669 0.95704937 0.96667671\n",
      " 0.96820235 0.97387755 0.97218943 0.96200275 0.9507103  0.94580948\n",
      " 0.94286442 0.95076299 0.94583833 0.95686305 0.95897615 0.9548198\n",
      " 0.9743892  0.9225148  0.90037262 0.92327726 0.94749749 0.96749783\n",
      " 0.96479356 0.95705307 0.94847691 0.9421553 ]\n",
      "4 day output [[0.93822557]]\n",
      "5 day input [0.84203088 0.83859706 0.83677483 0.85621071 0.84015667 0.84467936\n",
      " 0.86272383 0.85785198 0.84735763 0.87698531 0.87989557 0.88368464\n",
      " 0.88902819 0.8947382  0.88540149 0.88848341 0.88803899 0.90658331\n",
      " 0.90792799 0.90983176 0.91614091 0.92937732 0.93964565 0.94147885\n",
      " 0.93796873 0.9311707  0.93228757 0.93395865 0.94226432 0.94936574\n",
      " 0.94668233 0.95583296 0.95109451 0.93973231 0.94931388 0.93451703\n",
      " 0.93749189 0.93574512 0.94975579 0.96565247 0.96719515 0.96473289\n",
      " 0.97380185 0.97800398 0.9816308  0.97196257 0.97376704 0.97151375\n",
      " 0.97262561 0.97697985 0.95906365 0.95420873 0.9641974  0.95227683\n",
      " 0.94380701 0.94461024 0.95140314 0.948452   0.96735835 0.94889474\n",
      " 0.94969201 0.93395269 0.94886005 0.93349874 0.93321311 0.92545986\n",
      " 0.93103039 0.93034959 0.94846392 0.96082735 0.9588536  0.96267259\n",
      " 0.95536125 0.95557117 0.95972669 0.95704937 0.96667671 0.96820235\n",
      " 0.97387755 0.97218943 0.96200275 0.9507103  0.94580948 0.94286442\n",
      " 0.95076299 0.94583833 0.95686305 0.95897615 0.9548198  0.9743892\n",
      " 0.9225148  0.90037262 0.92327726 0.94749749 0.96749783 0.96479356\n",
      " 0.95705307 0.94847691 0.9421553  0.93822557]\n",
      "5 day output [[0.9359119]]\n",
      "6 day input [0.83859706 0.83677483 0.85621071 0.84015667 0.84467936 0.86272383\n",
      " 0.85785198 0.84735763 0.87698531 0.87989557 0.88368464 0.88902819\n",
      " 0.8947382  0.88540149 0.88848341 0.88803899 0.90658331 0.90792799\n",
      " 0.90983176 0.91614091 0.92937732 0.93964565 0.94147885 0.93796873\n",
      " 0.9311707  0.93228757 0.93395865 0.94226432 0.94936574 0.94668233\n",
      " 0.95583296 0.95109451 0.93973231 0.94931388 0.93451703 0.93749189\n",
      " 0.93574512 0.94975579 0.96565247 0.96719515 0.96473289 0.97380185\n",
      " 0.97800398 0.9816308  0.97196257 0.97376704 0.97151375 0.97262561\n",
      " 0.97697985 0.95906365 0.95420873 0.9641974  0.95227683 0.94380701\n",
      " 0.94461024 0.95140314 0.948452   0.96735835 0.94889474 0.94969201\n",
      " 0.93395269 0.94886005 0.93349874 0.93321311 0.92545986 0.93103039\n",
      " 0.93034959 0.94846392 0.96082735 0.9588536  0.96267259 0.95536125\n",
      " 0.95557117 0.95972669 0.95704937 0.96667671 0.96820235 0.97387755\n",
      " 0.97218943 0.96200275 0.9507103  0.94580948 0.94286442 0.95076299\n",
      " 0.94583833 0.95686305 0.95897615 0.9548198  0.9743892  0.9225148\n",
      " 0.90037262 0.92327726 0.94749749 0.96749783 0.96479356 0.95705307\n",
      " 0.94847691 0.9421553  0.93822557 0.93591189]\n",
      "6 day output [[0.93434083]]\n",
      "7 day input [0.83677483 0.85621071 0.84015667 0.84467936 0.86272383 0.85785198\n",
      " 0.84735763 0.87698531 0.87989557 0.88368464 0.88902819 0.8947382\n",
      " 0.88540149 0.88848341 0.88803899 0.90658331 0.90792799 0.90983176\n",
      " 0.91614091 0.92937732 0.93964565 0.94147885 0.93796873 0.9311707\n",
      " 0.93228757 0.93395865 0.94226432 0.94936574 0.94668233 0.95583296\n",
      " 0.95109451 0.93973231 0.94931388 0.93451703 0.93749189 0.93574512\n",
      " 0.94975579 0.96565247 0.96719515 0.96473289 0.97380185 0.97800398\n",
      " 0.9816308  0.97196257 0.97376704 0.97151375 0.97262561 0.97697985\n",
      " 0.95906365 0.95420873 0.9641974  0.95227683 0.94380701 0.94461024\n",
      " 0.95140314 0.948452   0.96735835 0.94889474 0.94969201 0.93395269\n",
      " 0.94886005 0.93349874 0.93321311 0.92545986 0.93103039 0.93034959\n",
      " 0.94846392 0.96082735 0.9588536  0.96267259 0.95536125 0.95557117\n",
      " 0.95972669 0.95704937 0.96667671 0.96820235 0.97387755 0.97218943\n",
      " 0.96200275 0.9507103  0.94580948 0.94286442 0.95076299 0.94583833\n",
      " 0.95686305 0.95897615 0.9548198  0.9743892  0.9225148  0.90037262\n",
      " 0.92327726 0.94749749 0.96749783 0.96479356 0.95705307 0.94847691\n",
      " 0.9421553  0.93822557 0.93591189 0.93434083]\n",
      "7 day output [[0.93290836]]\n",
      "8 day input [0.85621071 0.84015667 0.84467936 0.86272383 0.85785198 0.84735763\n",
      " 0.87698531 0.87989557 0.88368464 0.88902819 0.8947382  0.88540149\n",
      " 0.88848341 0.88803899 0.90658331 0.90792799 0.90983176 0.91614091\n",
      " 0.92937732 0.93964565 0.94147885 0.93796873 0.9311707  0.93228757\n",
      " 0.93395865 0.94226432 0.94936574 0.94668233 0.95583296 0.95109451\n",
      " 0.93973231 0.94931388 0.93451703 0.93749189 0.93574512 0.94975579\n",
      " 0.96565247 0.96719515 0.96473289 0.97380185 0.97800398 0.9816308\n",
      " 0.97196257 0.97376704 0.97151375 0.97262561 0.97697985 0.95906365\n",
      " 0.95420873 0.9641974  0.95227683 0.94380701 0.94461024 0.95140314\n",
      " 0.948452   0.96735835 0.94889474 0.94969201 0.93395269 0.94886005\n",
      " 0.93349874 0.93321311 0.92545986 0.93103039 0.93034959 0.94846392\n",
      " 0.96082735 0.9588536  0.96267259 0.95536125 0.95557117 0.95972669\n",
      " 0.95704937 0.96667671 0.96820235 0.97387755 0.97218943 0.96200275\n",
      " 0.9507103  0.94580948 0.94286442 0.95076299 0.94583833 0.95686305\n",
      " 0.95897615 0.9548198  0.9743892  0.9225148  0.90037262 0.92327726\n",
      " 0.94749749 0.96749783 0.96479356 0.95705307 0.94847691 0.9421553\n",
      " 0.93822557 0.93591189 0.93434083 0.93290836]\n",
      "8 day output [[0.93133855]]\n",
      "9 day input [0.84015667 0.84467936 0.86272383 0.85785198 0.84735763 0.87698531\n",
      " 0.87989557 0.88368464 0.88902819 0.8947382  0.88540149 0.88848341\n",
      " 0.88803899 0.90658331 0.90792799 0.90983176 0.91614091 0.92937732\n",
      " 0.93964565 0.94147885 0.93796873 0.9311707  0.93228757 0.93395865\n",
      " 0.94226432 0.94936574 0.94668233 0.95583296 0.95109451 0.93973231\n",
      " 0.94931388 0.93451703 0.93749189 0.93574512 0.94975579 0.96565247\n",
      " 0.96719515 0.96473289 0.97380185 0.97800398 0.9816308  0.97196257\n",
      " 0.97376704 0.97151375 0.97262561 0.97697985 0.95906365 0.95420873\n",
      " 0.9641974  0.95227683 0.94380701 0.94461024 0.95140314 0.948452\n",
      " 0.96735835 0.94889474 0.94969201 0.93395269 0.94886005 0.93349874\n",
      " 0.93321311 0.92545986 0.93103039 0.93034959 0.94846392 0.96082735\n",
      " 0.9588536  0.96267259 0.95536125 0.95557117 0.95972669 0.95704937\n",
      " 0.96667671 0.96820235 0.97387755 0.97218943 0.96200275 0.9507103\n",
      " 0.94580948 0.94286442 0.95076299 0.94583833 0.95686305 0.95897615\n",
      " 0.9548198  0.9743892  0.9225148  0.90037262 0.92327726 0.94749749\n",
      " 0.96749783 0.96479356 0.95705307 0.94847691 0.9421553  0.93822557\n",
      " 0.93591189 0.93434083 0.93290836 0.93133855]\n",
      "9 day output [[0.9295936]]\n",
      "10 day input [0.84467936 0.86272383 0.85785198 0.84735763 0.87698531 0.87989557\n",
      " 0.88368464 0.88902819 0.8947382  0.88540149 0.88848341 0.88803899\n",
      " 0.90658331 0.90792799 0.90983176 0.91614091 0.92937732 0.93964565\n",
      " 0.94147885 0.93796873 0.9311707  0.93228757 0.93395865 0.94226432\n",
      " 0.94936574 0.94668233 0.95583296 0.95109451 0.93973231 0.94931388\n",
      " 0.93451703 0.93749189 0.93574512 0.94975579 0.96565247 0.96719515\n",
      " 0.96473289 0.97380185 0.97800398 0.9816308  0.97196257 0.97376704\n",
      " 0.97151375 0.97262561 0.97697985 0.95906365 0.95420873 0.9641974\n",
      " 0.95227683 0.94380701 0.94461024 0.95140314 0.948452   0.96735835\n",
      " 0.94889474 0.94969201 0.93395269 0.94886005 0.93349874 0.93321311\n",
      " 0.92545986 0.93103039 0.93034959 0.94846392 0.96082735 0.9588536\n",
      " 0.96267259 0.95536125 0.95557117 0.95972669 0.95704937 0.96667671\n",
      " 0.96820235 0.97387755 0.97218943 0.96200275 0.9507103  0.94580948\n",
      " 0.94286442 0.95076299 0.94583833 0.95686305 0.95897615 0.9548198\n",
      " 0.9743892  0.9225148  0.90037262 0.92327726 0.94749749 0.96749783\n",
      " 0.96479356 0.95705307 0.94847691 0.9421553  0.93822557 0.93591189\n",
      " 0.93434083 0.93290836 0.93133855 0.92959362]\n",
      "10 day output [[0.92775255]]\n",
      "11 day input [0.86272383 0.85785198 0.84735763 0.87698531 0.87989557 0.88368464\n",
      " 0.88902819 0.8947382  0.88540149 0.88848341 0.88803899 0.90658331\n",
      " 0.90792799 0.90983176 0.91614091 0.92937732 0.93964565 0.94147885\n",
      " 0.93796873 0.9311707  0.93228757 0.93395865 0.94226432 0.94936574\n",
      " 0.94668233 0.95583296 0.95109451 0.93973231 0.94931388 0.93451703\n",
      " 0.93749189 0.93574512 0.94975579 0.96565247 0.96719515 0.96473289\n",
      " 0.97380185 0.97800398 0.9816308  0.97196257 0.97376704 0.97151375\n",
      " 0.97262561 0.97697985 0.95906365 0.95420873 0.9641974  0.95227683\n",
      " 0.94380701 0.94461024 0.95140314 0.948452   0.96735835 0.94889474\n",
      " 0.94969201 0.93395269 0.94886005 0.93349874 0.93321311 0.92545986\n",
      " 0.93103039 0.93034959 0.94846392 0.96082735 0.9588536  0.96267259\n",
      " 0.95536125 0.95557117 0.95972669 0.95704937 0.96667671 0.96820235\n",
      " 0.97387755 0.97218943 0.96200275 0.9507103  0.94580948 0.94286442\n",
      " 0.95076299 0.94583833 0.95686305 0.95897615 0.9548198  0.9743892\n",
      " 0.9225148  0.90037262 0.92327726 0.94749749 0.96749783 0.96479356\n",
      " 0.95705307 0.94847691 0.9421553  0.93822557 0.93591189 0.93434083\n",
      " 0.93290836 0.93133855 0.92959362 0.92775255]\n"
     ]
    },
    {
     "name": "stdout",
     "output_type": "stream",
     "text": [
      "11 day output [[0.9259182]]\n",
      "12 day input [0.85785198 0.84735763 0.87698531 0.87989557 0.88368464 0.88902819\n",
      " 0.8947382  0.88540149 0.88848341 0.88803899 0.90658331 0.90792799\n",
      " 0.90983176 0.91614091 0.92937732 0.93964565 0.94147885 0.93796873\n",
      " 0.9311707  0.93228757 0.93395865 0.94226432 0.94936574 0.94668233\n",
      " 0.95583296 0.95109451 0.93973231 0.94931388 0.93451703 0.93749189\n",
      " 0.93574512 0.94975579 0.96565247 0.96719515 0.96473289 0.97380185\n",
      " 0.97800398 0.9816308  0.97196257 0.97376704 0.97151375 0.97262561\n",
      " 0.97697985 0.95906365 0.95420873 0.9641974  0.95227683 0.94380701\n",
      " 0.94461024 0.95140314 0.948452   0.96735835 0.94889474 0.94969201\n",
      " 0.93395269 0.94886005 0.93349874 0.93321311 0.92545986 0.93103039\n",
      " 0.93034959 0.94846392 0.96082735 0.9588536  0.96267259 0.95536125\n",
      " 0.95557117 0.95972669 0.95704937 0.96667671 0.96820235 0.97387755\n",
      " 0.97218943 0.96200275 0.9507103  0.94580948 0.94286442 0.95076299\n",
      " 0.94583833 0.95686305 0.95897615 0.9548198  0.9743892  0.9225148\n",
      " 0.90037262 0.92327726 0.94749749 0.96749783 0.96479356 0.95705307\n",
      " 0.94847691 0.9421553  0.93822557 0.93591189 0.93434083 0.93290836\n",
      " 0.93133855 0.92959362 0.92775255 0.92591822]\n",
      "12 day output [[0.92416835]]\n",
      "13 day input [0.84735763 0.87698531 0.87989557 0.88368464 0.88902819 0.8947382\n",
      " 0.88540149 0.88848341 0.88803899 0.90658331 0.90792799 0.90983176\n",
      " 0.91614091 0.92937732 0.93964565 0.94147885 0.93796873 0.9311707\n",
      " 0.93228757 0.93395865 0.94226432 0.94936574 0.94668233 0.95583296\n",
      " 0.95109451 0.93973231 0.94931388 0.93451703 0.93749189 0.93574512\n",
      " 0.94975579 0.96565247 0.96719515 0.96473289 0.97380185 0.97800398\n",
      " 0.9816308  0.97196257 0.97376704 0.97151375 0.97262561 0.97697985\n",
      " 0.95906365 0.95420873 0.9641974  0.95227683 0.94380701 0.94461024\n",
      " 0.95140314 0.948452   0.96735835 0.94889474 0.94969201 0.93395269\n",
      " 0.94886005 0.93349874 0.93321311 0.92545986 0.93103039 0.93034959\n",
      " 0.94846392 0.96082735 0.9588536  0.96267259 0.95536125 0.95557117\n",
      " 0.95972669 0.95704937 0.96667671 0.96820235 0.97387755 0.97218943\n",
      " 0.96200275 0.9507103  0.94580948 0.94286442 0.95076299 0.94583833\n",
      " 0.95686305 0.95897615 0.9548198  0.9743892  0.9225148  0.90037262\n",
      " 0.92327726 0.94749749 0.96749783 0.96479356 0.95705307 0.94847691\n",
      " 0.9421553  0.93822557 0.93591189 0.93434083 0.93290836 0.93133855\n",
      " 0.92959362 0.92775255 0.92591822 0.92416835]\n",
      "13 day output [[0.9225423]]\n",
      "14 day input [0.87698531 0.87989557 0.88368464 0.88902819 0.8947382  0.88540149\n",
      " 0.88848341 0.88803899 0.90658331 0.90792799 0.90983176 0.91614091\n",
      " 0.92937732 0.93964565 0.94147885 0.93796873 0.9311707  0.93228757\n",
      " 0.93395865 0.94226432 0.94936574 0.94668233 0.95583296 0.95109451\n",
      " 0.93973231 0.94931388 0.93451703 0.93749189 0.93574512 0.94975579\n",
      " 0.96565247 0.96719515 0.96473289 0.97380185 0.97800398 0.9816308\n",
      " 0.97196257 0.97376704 0.97151375 0.97262561 0.97697985 0.95906365\n",
      " 0.95420873 0.9641974  0.95227683 0.94380701 0.94461024 0.95140314\n",
      " 0.948452   0.96735835 0.94889474 0.94969201 0.93395269 0.94886005\n",
      " 0.93349874 0.93321311 0.92545986 0.93103039 0.93034959 0.94846392\n",
      " 0.96082735 0.9588536  0.96267259 0.95536125 0.95557117 0.95972669\n",
      " 0.95704937 0.96667671 0.96820235 0.97387755 0.97218943 0.96200275\n",
      " 0.9507103  0.94580948 0.94286442 0.95076299 0.94583833 0.95686305\n",
      " 0.95897615 0.9548198  0.9743892  0.9225148  0.90037262 0.92327726\n",
      " 0.94749749 0.96749783 0.96479356 0.95705307 0.94847691 0.9421553\n",
      " 0.93822557 0.93591189 0.93434083 0.93290836 0.93133855 0.92959362\n",
      " 0.92775255 0.92591822 0.92416835 0.92254227]\n",
      "14 day output [[0.9210473]]\n",
      "15 day input [0.87989557 0.88368464 0.88902819 0.8947382  0.88540149 0.88848341\n",
      " 0.88803899 0.90658331 0.90792799 0.90983176 0.91614091 0.92937732\n",
      " 0.93964565 0.94147885 0.93796873 0.9311707  0.93228757 0.93395865\n",
      " 0.94226432 0.94936574 0.94668233 0.95583296 0.95109451 0.93973231\n",
      " 0.94931388 0.93451703 0.93749189 0.93574512 0.94975579 0.96565247\n",
      " 0.96719515 0.96473289 0.97380185 0.97800398 0.9816308  0.97196257\n",
      " 0.97376704 0.97151375 0.97262561 0.97697985 0.95906365 0.95420873\n",
      " 0.9641974  0.95227683 0.94380701 0.94461024 0.95140314 0.948452\n",
      " 0.96735835 0.94889474 0.94969201 0.93395269 0.94886005 0.93349874\n",
      " 0.93321311 0.92545986 0.93103039 0.93034959 0.94846392 0.96082735\n",
      " 0.9588536  0.96267259 0.95536125 0.95557117 0.95972669 0.95704937\n",
      " 0.96667671 0.96820235 0.97387755 0.97218943 0.96200275 0.9507103\n",
      " 0.94580948 0.94286442 0.95076299 0.94583833 0.95686305 0.95897615\n",
      " 0.9548198  0.9743892  0.9225148  0.90037262 0.92327726 0.94749749\n",
      " 0.96749783 0.96479356 0.95705307 0.94847691 0.9421553  0.93822557\n",
      " 0.93591189 0.93434083 0.93290836 0.93133855 0.92959362 0.92775255\n",
      " 0.92591822 0.92416835 0.92254227 0.92104727]\n",
      "15 day output [[0.91967213]]\n",
      "16 day input [0.88368464 0.88902819 0.8947382  0.88540149 0.88848341 0.88803899\n",
      " 0.90658331 0.90792799 0.90983176 0.91614091 0.92937732 0.93964565\n",
      " 0.94147885 0.93796873 0.9311707  0.93228757 0.93395865 0.94226432\n",
      " 0.94936574 0.94668233 0.95583296 0.95109451 0.93973231 0.94931388\n",
      " 0.93451703 0.93749189 0.93574512 0.94975579 0.96565247 0.96719515\n",
      " 0.96473289 0.97380185 0.97800398 0.9816308  0.97196257 0.97376704\n",
      " 0.97151375 0.97262561 0.97697985 0.95906365 0.95420873 0.9641974\n",
      " 0.95227683 0.94380701 0.94461024 0.95140314 0.948452   0.96735835\n",
      " 0.94889474 0.94969201 0.93395269 0.94886005 0.93349874 0.93321311\n",
      " 0.92545986 0.93103039 0.93034959 0.94846392 0.96082735 0.9588536\n",
      " 0.96267259 0.95536125 0.95557117 0.95972669 0.95704937 0.96667671\n",
      " 0.96820235 0.97387755 0.97218943 0.96200275 0.9507103  0.94580948\n",
      " 0.94286442 0.95076299 0.94583833 0.95686305 0.95897615 0.9548198\n",
      " 0.9743892  0.9225148  0.90037262 0.92327726 0.94749749 0.96749783\n",
      " 0.96479356 0.95705307 0.94847691 0.9421553  0.93822557 0.93591189\n",
      " 0.93434083 0.93290836 0.93133855 0.92959362 0.92775255 0.92591822\n",
      " 0.92416835 0.92254227 0.92104727 0.91967213]\n",
      "16 day output [[0.9183976]]\n",
      "17 day input [0.88902819 0.8947382  0.88540149 0.88848341 0.88803899 0.90658331\n",
      " 0.90792799 0.90983176 0.91614091 0.92937732 0.93964565 0.94147885\n",
      " 0.93796873 0.9311707  0.93228757 0.93395865 0.94226432 0.94936574\n",
      " 0.94668233 0.95583296 0.95109451 0.93973231 0.94931388 0.93451703\n",
      " 0.93749189 0.93574512 0.94975579 0.96565247 0.96719515 0.96473289\n",
      " 0.97380185 0.97800398 0.9816308  0.97196257 0.97376704 0.97151375\n",
      " 0.97262561 0.97697985 0.95906365 0.95420873 0.9641974  0.95227683\n",
      " 0.94380701 0.94461024 0.95140314 0.948452   0.96735835 0.94889474\n",
      " 0.94969201 0.93395269 0.94886005 0.93349874 0.93321311 0.92545986\n",
      " 0.93103039 0.93034959 0.94846392 0.96082735 0.9588536  0.96267259\n",
      " 0.95536125 0.95557117 0.95972669 0.95704937 0.96667671 0.96820235\n",
      " 0.97387755 0.97218943 0.96200275 0.9507103  0.94580948 0.94286442\n",
      " 0.95076299 0.94583833 0.95686305 0.95897615 0.9548198  0.9743892\n",
      " 0.9225148  0.90037262 0.92327726 0.94749749 0.96749783 0.96479356\n",
      " 0.95705307 0.94847691 0.9421553  0.93822557 0.93591189 0.93434083\n",
      " 0.93290836 0.93133855 0.92959362 0.92775255 0.92591822 0.92416835\n",
      " 0.92254227 0.92104727 0.91967213 0.91839761]\n",
      "17 day output [[0.91720474]]\n",
      "18 day input [0.8947382  0.88540149 0.88848341 0.88803899 0.90658331 0.90792799\n",
      " 0.90983176 0.91614091 0.92937732 0.93964565 0.94147885 0.93796873\n",
      " 0.9311707  0.93228757 0.93395865 0.94226432 0.94936574 0.94668233\n",
      " 0.95583296 0.95109451 0.93973231 0.94931388 0.93451703 0.93749189\n",
      " 0.93574512 0.94975579 0.96565247 0.96719515 0.96473289 0.97380185\n",
      " 0.97800398 0.9816308  0.97196257 0.97376704 0.97151375 0.97262561\n",
      " 0.97697985 0.95906365 0.95420873 0.9641974  0.95227683 0.94380701\n",
      " 0.94461024 0.95140314 0.948452   0.96735835 0.94889474 0.94969201\n",
      " 0.93395269 0.94886005 0.93349874 0.93321311 0.92545986 0.93103039\n",
      " 0.93034959 0.94846392 0.96082735 0.9588536  0.96267259 0.95536125\n",
      " 0.95557117 0.95972669 0.95704937 0.96667671 0.96820235 0.97387755\n",
      " 0.97218943 0.96200275 0.9507103  0.94580948 0.94286442 0.95076299\n",
      " 0.94583833 0.95686305 0.95897615 0.9548198  0.9743892  0.9225148\n",
      " 0.90037262 0.92327726 0.94749749 0.96749783 0.96479356 0.95705307\n",
      " 0.94847691 0.9421553  0.93822557 0.93591189 0.93434083 0.93290836\n",
      " 0.93133855 0.92959362 0.92775255 0.92591822 0.92416835 0.92254227\n",
      " 0.92104727 0.91967213 0.91839761 0.91720474]\n",
      "18 day output [[0.9160775]]\n",
      "19 day input [0.88540149 0.88848341 0.88803899 0.90658331 0.90792799 0.90983176\n",
      " 0.91614091 0.92937732 0.93964565 0.94147885 0.93796873 0.9311707\n",
      " 0.93228757 0.93395865 0.94226432 0.94936574 0.94668233 0.95583296\n",
      " 0.95109451 0.93973231 0.94931388 0.93451703 0.93749189 0.93574512\n",
      " 0.94975579 0.96565247 0.96719515 0.96473289 0.97380185 0.97800398\n",
      " 0.9816308  0.97196257 0.97376704 0.97151375 0.97262561 0.97697985\n",
      " 0.95906365 0.95420873 0.9641974  0.95227683 0.94380701 0.94461024\n",
      " 0.95140314 0.948452   0.96735835 0.94889474 0.94969201 0.93395269\n",
      " 0.94886005 0.93349874 0.93321311 0.92545986 0.93103039 0.93034959\n",
      " 0.94846392 0.96082735 0.9588536  0.96267259 0.95536125 0.95557117\n",
      " 0.95972669 0.95704937 0.96667671 0.96820235 0.97387755 0.97218943\n",
      " 0.96200275 0.9507103  0.94580948 0.94286442 0.95076299 0.94583833\n",
      " 0.95686305 0.95897615 0.9548198  0.9743892  0.9225148  0.90037262\n",
      " 0.92327726 0.94749749 0.96749783 0.96479356 0.95705307 0.94847691\n",
      " 0.9421553  0.93822557 0.93591189 0.93434083 0.93290836 0.93133855\n",
      " 0.92959362 0.92775255 0.92591822 0.92416835 0.92254227 0.92104727\n",
      " 0.91967213 0.91839761 0.91720474 0.91607749]\n"
     ]
    },
    {
     "name": "stdout",
     "output_type": "stream",
     "text": [
      "19 day output [[0.91500294]]\n",
      "20 day input [0.88848341 0.88803899 0.90658331 0.90792799 0.90983176 0.91614091\n",
      " 0.92937732 0.93964565 0.94147885 0.93796873 0.9311707  0.93228757\n",
      " 0.93395865 0.94226432 0.94936574 0.94668233 0.95583296 0.95109451\n",
      " 0.93973231 0.94931388 0.93451703 0.93749189 0.93574512 0.94975579\n",
      " 0.96565247 0.96719515 0.96473289 0.97380185 0.97800398 0.9816308\n",
      " 0.97196257 0.97376704 0.97151375 0.97262561 0.97697985 0.95906365\n",
      " 0.95420873 0.9641974  0.95227683 0.94380701 0.94461024 0.95140314\n",
      " 0.948452   0.96735835 0.94889474 0.94969201 0.93395269 0.94886005\n",
      " 0.93349874 0.93321311 0.92545986 0.93103039 0.93034959 0.94846392\n",
      " 0.96082735 0.9588536  0.96267259 0.95536125 0.95557117 0.95972669\n",
      " 0.95704937 0.96667671 0.96820235 0.97387755 0.97218943 0.96200275\n",
      " 0.9507103  0.94580948 0.94286442 0.95076299 0.94583833 0.95686305\n",
      " 0.95897615 0.9548198  0.9743892  0.9225148  0.90037262 0.92327726\n",
      " 0.94749749 0.96749783 0.96479356 0.95705307 0.94847691 0.9421553\n",
      " 0.93822557 0.93591189 0.93434083 0.93290836 0.93133855 0.92959362\n",
      " 0.92775255 0.92591822 0.92416835 0.92254227 0.92104727 0.91967213\n",
      " 0.91839761 0.91720474 0.91607749 0.91500294]\n",
      "20 day output [[0.91397154]]\n",
      "21 day input [0.88803899 0.90658331 0.90792799 0.90983176 0.91614091 0.92937732\n",
      " 0.93964565 0.94147885 0.93796873 0.9311707  0.93228757 0.93395865\n",
      " 0.94226432 0.94936574 0.94668233 0.95583296 0.95109451 0.93973231\n",
      " 0.94931388 0.93451703 0.93749189 0.93574512 0.94975579 0.96565247\n",
      " 0.96719515 0.96473289 0.97380185 0.97800398 0.9816308  0.97196257\n",
      " 0.97376704 0.97151375 0.97262561 0.97697985 0.95906365 0.95420873\n",
      " 0.9641974  0.95227683 0.94380701 0.94461024 0.95140314 0.948452\n",
      " 0.96735835 0.94889474 0.94969201 0.93395269 0.94886005 0.93349874\n",
      " 0.93321311 0.92545986 0.93103039 0.93034959 0.94846392 0.96082735\n",
      " 0.9588536  0.96267259 0.95536125 0.95557117 0.95972669 0.95704937\n",
      " 0.96667671 0.96820235 0.97387755 0.97218943 0.96200275 0.9507103\n",
      " 0.94580948 0.94286442 0.95076299 0.94583833 0.95686305 0.95897615\n",
      " 0.9548198  0.9743892  0.9225148  0.90037262 0.92327726 0.94749749\n",
      " 0.96749783 0.96479356 0.95705307 0.94847691 0.9421553  0.93822557\n",
      " 0.93591189 0.93434083 0.93290836 0.93133855 0.92959362 0.92775255\n",
      " 0.92591822 0.92416835 0.92254227 0.92104727 0.91967213 0.91839761\n",
      " 0.91720474 0.91607749 0.91500294 0.91397154]\n",
      "21 day output [[0.9129751]]\n",
      "22 day input [0.90658331 0.90792799 0.90983176 0.91614091 0.92937732 0.93964565\n",
      " 0.94147885 0.93796873 0.9311707  0.93228757 0.93395865 0.94226432\n",
      " 0.94936574 0.94668233 0.95583296 0.95109451 0.93973231 0.94931388\n",
      " 0.93451703 0.93749189 0.93574512 0.94975579 0.96565247 0.96719515\n",
      " 0.96473289 0.97380185 0.97800398 0.9816308  0.97196257 0.97376704\n",
      " 0.97151375 0.97262561 0.97697985 0.95906365 0.95420873 0.9641974\n",
      " 0.95227683 0.94380701 0.94461024 0.95140314 0.948452   0.96735835\n",
      " 0.94889474 0.94969201 0.93395269 0.94886005 0.93349874 0.93321311\n",
      " 0.92545986 0.93103039 0.93034959 0.94846392 0.96082735 0.9588536\n",
      " 0.96267259 0.95536125 0.95557117 0.95972669 0.95704937 0.96667671\n",
      " 0.96820235 0.97387755 0.97218943 0.96200275 0.9507103  0.94580948\n",
      " 0.94286442 0.95076299 0.94583833 0.95686305 0.95897615 0.9548198\n",
      " 0.9743892  0.9225148  0.90037262 0.92327726 0.94749749 0.96749783\n",
      " 0.96479356 0.95705307 0.94847691 0.9421553  0.93822557 0.93591189\n",
      " 0.93434083 0.93290836 0.93133855 0.92959362 0.92775255 0.92591822\n",
      " 0.92416835 0.92254227 0.92104727 0.91967213 0.91839761 0.91720474\n",
      " 0.91607749 0.91500294 0.91397154 0.91297507]\n",
      "22 day output [[0.9120073]]\n",
      "23 day input [0.90792799 0.90983176 0.91614091 0.92937732 0.93964565 0.94147885\n",
      " 0.93796873 0.9311707  0.93228757 0.93395865 0.94226432 0.94936574\n",
      " 0.94668233 0.95583296 0.95109451 0.93973231 0.94931388 0.93451703\n",
      " 0.93749189 0.93574512 0.94975579 0.96565247 0.96719515 0.96473289\n",
      " 0.97380185 0.97800398 0.9816308  0.97196257 0.97376704 0.97151375\n",
      " 0.97262561 0.97697985 0.95906365 0.95420873 0.9641974  0.95227683\n",
      " 0.94380701 0.94461024 0.95140314 0.948452   0.96735835 0.94889474\n",
      " 0.94969201 0.93395269 0.94886005 0.93349874 0.93321311 0.92545986\n",
      " 0.93103039 0.93034959 0.94846392 0.96082735 0.9588536  0.96267259\n",
      " 0.95536125 0.95557117 0.95972669 0.95704937 0.96667671 0.96820235\n",
      " 0.97387755 0.97218943 0.96200275 0.9507103  0.94580948 0.94286442\n",
      " 0.95076299 0.94583833 0.95686305 0.95897615 0.9548198  0.9743892\n",
      " 0.9225148  0.90037262 0.92327726 0.94749749 0.96749783 0.96479356\n",
      " 0.95705307 0.94847691 0.9421553  0.93822557 0.93591189 0.93434083\n",
      " 0.93290836 0.93133855 0.92959362 0.92775255 0.92591822 0.92416835\n",
      " 0.92254227 0.92104727 0.91967213 0.91839761 0.91720474 0.91607749\n",
      " 0.91500294 0.91397154 0.91297507 0.91200727]\n",
      "23 day output [[0.9110619]]\n",
      "24 day input [0.90983176 0.91614091 0.92937732 0.93964565 0.94147885 0.93796873\n",
      " 0.9311707  0.93228757 0.93395865 0.94226432 0.94936574 0.94668233\n",
      " 0.95583296 0.95109451 0.93973231 0.94931388 0.93451703 0.93749189\n",
      " 0.93574512 0.94975579 0.96565247 0.96719515 0.96473289 0.97380185\n",
      " 0.97800398 0.9816308  0.97196257 0.97376704 0.97151375 0.97262561\n",
      " 0.97697985 0.95906365 0.95420873 0.9641974  0.95227683 0.94380701\n",
      " 0.94461024 0.95140314 0.948452   0.96735835 0.94889474 0.94969201\n",
      " 0.93395269 0.94886005 0.93349874 0.93321311 0.92545986 0.93103039\n",
      " 0.93034959 0.94846392 0.96082735 0.9588536  0.96267259 0.95536125\n",
      " 0.95557117 0.95972669 0.95704937 0.96667671 0.96820235 0.97387755\n",
      " 0.97218943 0.96200275 0.9507103  0.94580948 0.94286442 0.95076299\n",
      " 0.94583833 0.95686305 0.95897615 0.9548198  0.9743892  0.9225148\n",
      " 0.90037262 0.92327726 0.94749749 0.96749783 0.96479356 0.95705307\n",
      " 0.94847691 0.9421553  0.93822557 0.93591189 0.93434083 0.93290836\n",
      " 0.93133855 0.92959362 0.92775255 0.92591822 0.92416835 0.92254227\n",
      " 0.92104727 0.91967213 0.91839761 0.91720474 0.91607749 0.91500294\n",
      " 0.91397154 0.91297507 0.91200727 0.91106188]\n",
      "24 day output [[0.9101341]]\n",
      "25 day input [0.91614091 0.92937732 0.93964565 0.94147885 0.93796873 0.9311707\n",
      " 0.93228757 0.93395865 0.94226432 0.94936574 0.94668233 0.95583296\n",
      " 0.95109451 0.93973231 0.94931388 0.93451703 0.93749189 0.93574512\n",
      " 0.94975579 0.96565247 0.96719515 0.96473289 0.97380185 0.97800398\n",
      " 0.9816308  0.97196257 0.97376704 0.97151375 0.97262561 0.97697985\n",
      " 0.95906365 0.95420873 0.9641974  0.95227683 0.94380701 0.94461024\n",
      " 0.95140314 0.948452   0.96735835 0.94889474 0.94969201 0.93395269\n",
      " 0.94886005 0.93349874 0.93321311 0.92545986 0.93103039 0.93034959\n",
      " 0.94846392 0.96082735 0.9588536  0.96267259 0.95536125 0.95557117\n",
      " 0.95972669 0.95704937 0.96667671 0.96820235 0.97387755 0.97218943\n",
      " 0.96200275 0.9507103  0.94580948 0.94286442 0.95076299 0.94583833\n",
      " 0.95686305 0.95897615 0.9548198  0.9743892  0.9225148  0.90037262\n",
      " 0.92327726 0.94749749 0.96749783 0.96479356 0.95705307 0.94847691\n",
      " 0.9421553  0.93822557 0.93591189 0.93434083 0.93290836 0.93133855\n",
      " 0.92959362 0.92775255 0.92591822 0.92416835 0.92254227 0.92104727\n",
      " 0.91967213 0.91839761 0.91720474 0.91607749 0.91500294 0.91397154\n",
      " 0.91297507 0.91200727 0.91106188 0.91013408]\n",
      "25 day output [[0.9092197]]\n",
      "26 day input [0.92937732 0.93964565 0.94147885 0.93796873 0.9311707  0.93228757\n",
      " 0.93395865 0.94226432 0.94936574 0.94668233 0.95583296 0.95109451\n",
      " 0.93973231 0.94931388 0.93451703 0.93749189 0.93574512 0.94975579\n",
      " 0.96565247 0.96719515 0.96473289 0.97380185 0.97800398 0.9816308\n",
      " 0.97196257 0.97376704 0.97151375 0.97262561 0.97697985 0.95906365\n",
      " 0.95420873 0.9641974  0.95227683 0.94380701 0.94461024 0.95140314\n",
      " 0.948452   0.96735835 0.94889474 0.94969201 0.93395269 0.94886005\n",
      " 0.93349874 0.93321311 0.92545986 0.93103039 0.93034959 0.94846392\n",
      " 0.96082735 0.9588536  0.96267259 0.95536125 0.95557117 0.95972669\n",
      " 0.95704937 0.96667671 0.96820235 0.97387755 0.97218943 0.96200275\n",
      " 0.9507103  0.94580948 0.94286442 0.95076299 0.94583833 0.95686305\n",
      " 0.95897615 0.9548198  0.9743892  0.9225148  0.90037262 0.92327726\n",
      " 0.94749749 0.96749783 0.96479356 0.95705307 0.94847691 0.9421553\n",
      " 0.93822557 0.93591189 0.93434083 0.93290836 0.93133855 0.92959362\n",
      " 0.92775255 0.92591822 0.92416835 0.92254227 0.92104727 0.91967213\n",
      " 0.91839761 0.91720474 0.91607749 0.91500294 0.91397154 0.91297507\n",
      " 0.91200727 0.91106188 0.91013408 0.90921968]\n",
      "26 day output [[0.90831494]]\n",
      "27 day input [0.93964565 0.94147885 0.93796873 0.9311707  0.93228757 0.93395865\n",
      " 0.94226432 0.94936574 0.94668233 0.95583296 0.95109451 0.93973231\n",
      " 0.94931388 0.93451703 0.93749189 0.93574512 0.94975579 0.96565247\n",
      " 0.96719515 0.96473289 0.97380185 0.97800398 0.9816308  0.97196257\n",
      " 0.97376704 0.97151375 0.97262561 0.97697985 0.95906365 0.95420873\n",
      " 0.9641974  0.95227683 0.94380701 0.94461024 0.95140314 0.948452\n",
      " 0.96735835 0.94889474 0.94969201 0.93395269 0.94886005 0.93349874\n",
      " 0.93321311 0.92545986 0.93103039 0.93034959 0.94846392 0.96082735\n",
      " 0.9588536  0.96267259 0.95536125 0.95557117 0.95972669 0.95704937\n",
      " 0.96667671 0.96820235 0.97387755 0.97218943 0.96200275 0.9507103\n",
      " 0.94580948 0.94286442 0.95076299 0.94583833 0.95686305 0.95897615\n",
      " 0.9548198  0.9743892  0.9225148  0.90037262 0.92327726 0.94749749\n",
      " 0.96749783 0.96479356 0.95705307 0.94847691 0.9421553  0.93822557\n",
      " 0.93591189 0.93434083 0.93290836 0.93133855 0.92959362 0.92775255\n",
      " 0.92591822 0.92416835 0.92254227 0.92104727 0.91967213 0.91839761\n",
      " 0.91720474 0.91607749 0.91500294 0.91397154 0.91297507 0.91200727\n",
      " 0.91106188 0.91013408 0.90921968 0.90831494]\n"
     ]
    },
    {
     "name": "stdout",
     "output_type": "stream",
     "text": [
      "27 day output [[0.9074175]]\n",
      "28 day input [0.94147885 0.93796873 0.9311707  0.93228757 0.93395865 0.94226432\n",
      " 0.94936574 0.94668233 0.95583296 0.95109451 0.93973231 0.94931388\n",
      " 0.93451703 0.93749189 0.93574512 0.94975579 0.96565247 0.96719515\n",
      " 0.96473289 0.97380185 0.97800398 0.9816308  0.97196257 0.97376704\n",
      " 0.97151375 0.97262561 0.97697985 0.95906365 0.95420873 0.9641974\n",
      " 0.95227683 0.94380701 0.94461024 0.95140314 0.948452   0.96735835\n",
      " 0.94889474 0.94969201 0.93395269 0.94886005 0.93349874 0.93321311\n",
      " 0.92545986 0.93103039 0.93034959 0.94846392 0.96082735 0.9588536\n",
      " 0.96267259 0.95536125 0.95557117 0.95972669 0.95704937 0.96667671\n",
      " 0.96820235 0.97387755 0.97218943 0.96200275 0.9507103  0.94580948\n",
      " 0.94286442 0.95076299 0.94583833 0.95686305 0.95897615 0.9548198\n",
      " 0.9743892  0.9225148  0.90037262 0.92327726 0.94749749 0.96749783\n",
      " 0.96479356 0.95705307 0.94847691 0.9421553  0.93822557 0.93591189\n",
      " 0.93434083 0.93290836 0.93133855 0.92959362 0.92775255 0.92591822\n",
      " 0.92416835 0.92254227 0.92104727 0.91967213 0.91839761 0.91720474\n",
      " 0.91607749 0.91500294 0.91397154 0.91297507 0.91200727 0.91106188\n",
      " 0.91013408 0.90921968 0.90831494 0.90741748]\n",
      "28 day output [[0.9065254]]\n",
      "29 day input [0.93796873 0.9311707  0.93228757 0.93395865 0.94226432 0.94936574\n",
      " 0.94668233 0.95583296 0.95109451 0.93973231 0.94931388 0.93451703\n",
      " 0.93749189 0.93574512 0.94975579 0.96565247 0.96719515 0.96473289\n",
      " 0.97380185 0.97800398 0.9816308  0.97196257 0.97376704 0.97151375\n",
      " 0.97262561 0.97697985 0.95906365 0.95420873 0.9641974  0.95227683\n",
      " 0.94380701 0.94461024 0.95140314 0.948452   0.96735835 0.94889474\n",
      " 0.94969201 0.93395269 0.94886005 0.93349874 0.93321311 0.92545986\n",
      " 0.93103039 0.93034959 0.94846392 0.96082735 0.9588536  0.96267259\n",
      " 0.95536125 0.95557117 0.95972669 0.95704937 0.96667671 0.96820235\n",
      " 0.97387755 0.97218943 0.96200275 0.9507103  0.94580948 0.94286442\n",
      " 0.95076299 0.94583833 0.95686305 0.95897615 0.9548198  0.9743892\n",
      " 0.9225148  0.90037262 0.92327726 0.94749749 0.96749783 0.96479356\n",
      " 0.95705307 0.94847691 0.9421553  0.93822557 0.93591189 0.93434083\n",
      " 0.93290836 0.93133855 0.92959362 0.92775255 0.92591822 0.92416835\n",
      " 0.92254227 0.92104727 0.91967213 0.91839761 0.91720474 0.91607749\n",
      " 0.91500294 0.91397154 0.91297507 0.91200727 0.91106188 0.91013408\n",
      " 0.90921968 0.90831494 0.90741748 0.90652537]\n",
      "29 day output [[0.9056377]]\n",
      "[[0.9647935628890991], [0.9570530652999878], [0.9484769105911255], [0.9421553015708923], [0.9382255673408508], [0.9359118938446045], [0.9343408346176147], [0.9329083561897278], [0.9313385486602783], [0.9295936226844788], [0.9277525544166565], [0.9259182214736938], [0.9241683483123779], [0.9225422739982605], [0.9210472702980042], [0.9196721315383911], [0.9183976054191589], [0.917204737663269], [0.9160774946212769], [0.9150029420852661], [0.9139715433120728], [0.9129750728607178], [0.9120072722434998], [0.9110618829727173], [0.9101340770721436], [0.9092196822166443], [0.9083149433135986], [0.9074174761772156], [0.9065253734588623], [0.9056376814842224]]\n"
     ]
    }
   ],
   "source": [
    "# demonstrate prediction for next 10 days\n",
    "from numpy import array\n",
    "\n",
    "lst_output=[]\n",
    "n_steps=100\n",
    "i=0\n",
    "while(i<30):\n",
    "    \n",
    "    if(len(temp_input)>100):\n",
    "        #print(temp_input)\n",
    "        x_input=np.array(temp_input[1:])\n",
    "        print(\"{} day input {}\".format(i,x_input))\n",
    "        x_input=x_input.reshape(1,-1)\n",
    "        x_input = x_input.reshape((1, n_steps, 1))\n",
    "        #print(x_input)\n",
    "        yhat = model.predict(x_input, verbose=0)\n",
    "        print(\"{} day output {}\".format(i,yhat))\n",
    "        temp_input.extend(yhat[0].tolist())\n",
    "        temp_input=temp_input[1:]\n",
    "        #print(temp_input)\n",
    "        lst_output.extend(yhat.tolist())\n",
    "        i=i+1\n",
    "    else:\n",
    "        x_input = x_input.reshape((1, n_steps,1))\n",
    "        yhat = model.predict(x_input, verbose=0)\n",
    "        print(yhat[0])\n",
    "        temp_input.extend(yhat[0].tolist())\n",
    "        print(len(temp_input))\n",
    "        lst_output.extend(yhat.tolist())\n",
    "        i=i+1\n",
    "    \n",
    "\n",
    "print(lst_output)"
   ]
  },
  {
   "cell_type": "code",
   "execution_count": 357,
   "id": "580d4e26",
   "metadata": {},
   "outputs": [],
   "source": [
    "day_new = np.arange(1,101)\n",
    "day_pred = np.arange(101,131)"
   ]
  },
  {
   "cell_type": "code",
   "execution_count": 358,
   "id": "5cc39662",
   "metadata": {},
   "outputs": [
    {
     "data": {
      "text/plain": [
       "1985"
      ]
     },
     "execution_count": 358,
     "metadata": {},
     "output_type": "execute_result"
    }
   ],
   "source": [
    "len(dataset)"
   ]
  },
  {
   "cell_type": "code",
   "execution_count": 359,
   "id": "8add5d5f",
   "metadata": {},
   "outputs": [
    {
     "data": {
      "text/plain": [
       "[<matplotlib.lines.Line2D at 0x1223da42b80>]"
      ]
     },
     "execution_count": 359,
     "metadata": {},
     "output_type": "execute_result"
    },
    {
     "data": {
      "image/png": "[encoded data removed]",
      "text/plain": [
       "<Figure size 576x576 with 1 Axes>"
      ]
     },
     "metadata": {
      "needs_background": "light"
     },
     "output_type": "display_data"
    }
   ],
   "source": [
    "import matplotlib.pyplot as plt\n",
    "plt.plot(day_new,scaler.inverse_transform(dataset[1885:]))\n",
    "plt.plot(day_pred,scaler.inverse_transform(lst_output))"
   ]
  },
  {
   "cell_type": "markdown",
   "id": "10cbf93c",
   "metadata": {},
   "source": [
    "#### Observation:\n",
    "    \n",
    "            This is the fiture 30 days forecast and plotted the value. The orange colored value is for the next 30 days."
   ]
  },
  {
   "cell_type": "markdown",
   "id": "9c1fa046",
   "metadata": {},
   "source": [
    "Reference: https://colah.github.io/posts/2015-08-Understanding-LSTMs/\n",
    "\n",
    "Reference: https://machinelearningmastery.com/time-series-prediction-lstm-recurrent-neural-networks-python-keras/\n",
    "\n",
    "https://machinelearningmastery.com/multivariate-time-series-forecasting-lstms-keras/"
   ]
  }
 ],
 "metadata": {
  "kernelspec": {
   "display_name": "Python 3 (ipykernel)",
   "language": "python",
   "name": "python3"
  },
  "language_info": {
   "codemirror_mode": {
    "name": "ipython",
    "version": 3
   },
   "file_extension": ".py",
   "mimetype": "text/x-python",
   "name": "python",
   "nbconvert_exporter": "python",
   "pygments_lexer": "ipython3",
   "version": "3.8.8"
  }
 },
 "nbformat": 4,
 "nbformat_minor": 5
}
